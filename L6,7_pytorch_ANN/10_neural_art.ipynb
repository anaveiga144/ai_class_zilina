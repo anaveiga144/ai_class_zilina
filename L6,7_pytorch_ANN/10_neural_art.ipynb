{
 "cells": [
  {
   "cell_type": "markdown",
   "metadata": {
    "colab_type": "text",
    "id": "kP0mmQ1p6XMY",
    "tags": [
     "en"
    ]
   },
   "source": [
    "**NOTE: This notebook is written for the Google Colab platform, which provides free hardware acceleration. However it can also be run (possibly with minor modifications) as a standard Jupyter notebook, using a local GPU.**"
   ]
  },
  {
   "cell_type": "code",
   "execution_count": null,
   "metadata": {
    "colab": {
     "base_uri": "https://localhost:8080/",
     "height": 104
    },
    "colab_type": "code",
    "id": "VHWscsmKuPQv",
    "outputId": "1a22f583-ede4-4540-b00a-74839d9f17ab"
   },
   "outputs": [],
   "source": [
    "#@title -- Installation of Packages -- { display-mode: \"form\" }\n",
    "!git clone https://github.com/michalgregor/Neural-Style-Transfer.git"
   ]
  },
  {
   "cell_type": "code",
   "execution_count": null,
   "metadata": {
    "colab": {},
    "colab_type": "code",
    "id": "b7WzhHLuvL5a"
   },
   "outputs": [],
   "source": [
    "#@title -- Import of Necessary Packages -- { display-mode: \"form\" }\n",
    "import matplotlib.pyplot as plt\n",
    "from google.colab import files\n",
    "import sys\n",
    "import os"
   ]
  },
  {
   "cell_type": "code",
   "execution_count": null,
   "metadata": {
    "colab": {
     "base_uri": "https://localhost:8080/",
     "height": 732
    },
    "colab_type": "code",
    "id": "FKDTTvJvuxTe",
    "outputId": "1fd7ce81-4691-42cb-c97d-1999b53994d9"
   },
   "outputs": [],
   "source": [
    "#@title -- Downloading Data -- { display-mode: \"form\" }\n",
    "!mkdir -p data\n",
    "!wget -nc -O data/cat.jpg https://www.dropbox.com/s/a5ux951zo01gd5z/cat.jpg?dl=1\n",
    "!wget -nc -O data/picaso.jpg https://www.dropbox.com/s/l1gjon5gvjpefuv/picaso.jpg?dl=1"
   ]
  },
  {
   "cell_type": "markdown",
   "metadata": {
    "colab_type": "text",
    "id": "cKtWL2kf6XON",
    "tags": [
     "en"
    ]
   },
   "source": [
    "# Neural Style Transfer\n",
    "\n",
    "This notebook shows how to use the neural artistic style algorithm from [\"A Neural Algorithm of Artistic Style\"](https://arxiv.org/abs/1508.06576). The actual implementation that we will be using can be found on [github](https://github.com/titu1994/Neural-Style-Transfer.git). This notebook file is also adapted from a notebook file available in the same repo.\n",
    "\n",
    "Let us inspect the parameters of the script from the repository:"
   ]
  },
  {
   "cell_type": "code",
   "execution_count": null,
   "metadata": {
    "colab": {
     "base_uri": "https://localhost:8080/",
     "height": 1000
    },
    "colab_type": "code",
    "id": "YVnya74IXEPS",
    "outputId": "e1e7f5bf-e910-4884-92f7-9a828ed220c9"
   },
   "outputs": [],
   "source": [
    "dir_path = \"Neural-Style-Transfer\"\n",
    "NETWORK = 'INetwork' + '.py'\n",
    "\n",
    "# List all the arguments that can be supplied to Network.py\n",
    "!{sys.executable} {dir_path}/{NETWORK} -h"
   ]
  },
  {
   "cell_type": "markdown",
   "metadata": {
    "colab_type": "text",
    "id": "r-g67fmr6XOt",
    "tags": [
     "en"
    ]
   },
   "source": [
    "## Network.py Parameters\n",
    "\n",
    "Here, we will setup all of the parameters for the `Network.py` script."
   ]
  },
  {
   "cell_type": "code",
   "execution_count": null,
   "metadata": {
    "colab": {},
    "colab_type": "code",
    "id": "9kom0RML6XO3",
    "tags": [
     "en"
    ]
   },
   "outputs": [],
   "source": [
    "# image size\n",
    "IMAGE_SIZE = 400\n",
    "\n",
    "# weights of the loss criteria\n",
    "CONTENT_WEIGHT = 0.025\n",
    "STYLE_WEIGHT = 1.0\n",
    "STYLE_SCALE = 1.0\n",
    "TOTAL_VARIATION_WEIGHT = 8.5e-5\n",
    "CONTENT_LOSS_TYPE = 0\n",
    "\n",
    "# optimization arguments\n",
    "NUM_ITERATIONS = 10\n",
    "MODEL = 'vgg16'\n",
    "RESCALE_IMAGE = 'false'\n",
    "# set to false if there is not enough memory (OOM)\n",
    "MAINTAIN_ASPECT_RATIO = 'true'  \n",
    "\n",
    "# style transfer arguments\n",
    "CONTENT_LAYER = 'conv5_2'\n",
    "INITIALIZATION_IMAGE = 'content'\n",
    "POOLING_TYPE = 'max'\n",
    "\n",
    "# other arguments\n",
    "PRESERVE_COLOR = 'false'\n",
    "MIN_IMPROVEMENT = 0.0"
   ]
  },
  {
   "cell_type": "markdown",
   "metadata": {
    "colab_type": "text",
    "id": "rN8yrFb26XPa",
    "tags": [
     "en"
    ]
   },
   "source": [
    "## Content Image\n",
    "\n",
    "We load the content image."
   ]
  },
  {
   "cell_type": "code",
   "execution_count": null,
   "metadata": {
    "colab": {},
    "colab_type": "code",
    "id": "UmbLzulYvf1u"
   },
   "outputs": [],
   "source": [
    "CONTENT_IMAGE_FN = \"data/cat.jpg\""
   ]
  },
  {
   "cell_type": "markdown",
   "metadata": {
    "colab_type": "text",
    "id": "S8pC0U096XPx",
    "tags": [
     "en"
    ]
   },
   "source": [
    "Uncomment and run the below cell to upload a different content Image. Make sure to select **just 1 image**."
   ]
  },
  {
   "cell_type": "code",
   "execution_count": null,
   "metadata": {
    "colab": {},
    "colab_type": "code",
    "id": "3ZPhYx8dvTfR"
   },
   "outputs": [],
   "source": [
    "# content_img = files.upload()\n",
    "# CONTENT_IMAGE_FN = list(content_img)[0]"
   ]
  },
  {
   "cell_type": "markdown",
   "metadata": {
    "colab_type": "text",
    "id": "7-K8SEvt6XQM",
    "tags": [
     "en"
    ]
   },
   "source": [
    "We display the content image."
   ]
  },
  {
   "cell_type": "code",
   "execution_count": null,
   "metadata": {
    "colab": {
     "base_uri": "https://localhost:8080/",
     "height": 608
    },
    "colab_type": "code",
    "id": "pEvJHwxCbLO6",
    "outputId": "3c41f817-6f1b-4d20-d130-4298e2559d4d"
   },
   "outputs": [],
   "source": [
    "fig = plt.figure(figsize=(10, 10))\n",
    "img = plt.imread(CONTENT_IMAGE_FN)\n",
    "plt.axis('off')\n",
    "plt.title('The content image')\n",
    "plt.imshow(img)"
   ]
  },
  {
   "cell_type": "markdown",
   "metadata": {
    "colab_type": "text",
    "id": "nJwaJP7j6XQk",
    "tags": [
     "en"
    ]
   },
   "source": [
    "## Style Image\n",
    "\n",
    "We load the style image like we did with the content image."
   ]
  },
  {
   "cell_type": "code",
   "execution_count": null,
   "metadata": {
    "colab": {},
    "colab_type": "code",
    "id": "i2ui0kBWvwB5"
   },
   "outputs": [],
   "source": [
    "STYLE_IMAGE_FN = \"data/picaso.jpg\""
   ]
  },
  {
   "cell_type": "code",
   "execution_count": null,
   "metadata": {
    "colab": {},
    "colab_type": "code",
    "id": "KhYQLYGVdIVn"
   },
   "outputs": [],
   "source": [
    "# style_img = files.upload()\n",
    "# style_filename = list(style_img)[0]"
   ]
  },
  {
   "cell_type": "code",
   "execution_count": null,
   "metadata": {
    "colab": {
     "base_uri": "https://localhost:8080/",
     "height": 608
    },
    "colab_type": "code",
    "id": "XW7TirxZdYcN",
    "outputId": "391f9aac-7d0b-444b-858a-eaa79d511bb1"
   },
   "outputs": [],
   "source": [
    "fig = plt.figure(figsize=(10, 10))\n",
    "img = plt.imread(STYLE_IMAGE_FN)\n",
    "plt.axis('off')\n",
    "plt.title('The style image')\n",
    "plt.imshow(img)"
   ]
  },
  {
   "cell_type": "markdown",
   "metadata": {
    "colab_type": "text",
    "id": "Fg8arGf16XSI",
    "tags": [
     "en"
    ]
   },
   "source": [
    "## Generating the Restyled Image\n",
    "\n",
    "Run the cells below to generate the restyled image."
   ]
  },
  {
   "cell_type": "code",
   "execution_count": null,
   "metadata": {
    "colab": {},
    "colab_type": "code",
    "id": "zE4Iro7IlzEd"
   },
   "outputs": [],
   "source": [
    "RESULT_DIR = \"generated/\"\n",
    "RESULT_PREFIX = RESULT_DIR + \"gen\"\n",
    "FINAL_IMAGE_PATH = RESULT_PREFIX + \"_at_iteration_%d.png\" % (NUM_ITERATIONS)\n",
    "\n",
    "if not os.path.exists(RESULT_DIR):\n",
    "    os.makedirs(RESULT_DIR)"
   ]
  },
  {
   "cell_type": "code",
   "execution_count": null,
   "metadata": {
    "colab": {
     "base_uri": "https://localhost:8080/",
     "height": 1000
    },
    "colab_type": "code",
    "id": "4eITTefRdfoY",
    "outputId": "57c2c86f-46aa-4ffa-87dd-94b2c7b013ac"
   },
   "outputs": [],
   "source": [
    "!{sys.executable} {dir_path}/{NETWORK} {CONTENT_IMAGE_FN} {STYLE_IMAGE_FN} {RESULT_PREFIX} \\\n",
    "  --image_size {IMAGE_SIZE} --content_weight {CONTENT_WEIGHT} --style_weight \\\n",
    "  {STYLE_WEIGHT} --style_scale {STYLE_SCALE} --total_variation_weight \\\n",
    "  {TOTAL_VARIATION_WEIGHT} --content_loss_type {CONTENT_LOSS_TYPE} --num_iter \\\n",
    "  {NUM_ITERATIONS} --model {MODEL} --rescale_image {RESCALE_IMAGE} \\\n",
    "  --maintain_aspect_ratio {MAINTAIN_ASPECT_RATIO} --content_layer {CONTENT_LAYER} \\\n",
    "  --init_image {INITIALIZATION_IMAGE} --pool_type {POOLING_TYPE} --preserve_color \\\n",
    "  {PRESERVE_COLOR} --min_improvement {MIN_IMPROVEMENT}"
   ]
  },
  {
   "cell_type": "markdown",
   "metadata": {
    "colab_type": "text",
    "id": "w97rKl8b6XTD",
    "tags": [
     "en"
    ]
   },
   "source": [
    "And we are ready to display the restyled image."
   ]
  },
  {
   "cell_type": "code",
   "execution_count": null,
   "metadata": {
    "colab": {
     "base_uri": "https://localhost:8080/",
     "height": 608
    },
    "colab_type": "code",
    "id": "-A0zo0yEj-yq",
    "outputId": "94e998b9-6155-42f1-fbe8-911775a60c3a"
   },
   "outputs": [],
   "source": [
    "fig = plt.figure(figsize=(10, 10))\n",
    "img = plt.imread(FINAL_IMAGE_PATH)\n",
    "plt.axis('off')\n",
    "plt.title('Generated image')\n",
    "plt.imshow(img)"
   ]
  },
  {
   "cell_type": "markdown",
   "metadata": {
    "colab_type": "text",
    "id": "qXH2LR9U6XTt",
    "tags": [
     "en"
    ]
   },
   "source": [
    "## (Optional) Color Transfer\n",
    "\n",
    "If you wish for color transfer between the content image and the generated image, then run the next cells."
   ]
  },
  {
   "cell_type": "code",
   "execution_count": null,
   "metadata": {
    "colab": {
     "base_uri": "https://localhost:8080/",
     "height": 34
    },
    "colab_type": "code",
    "id": "oIQZf5zuoPA_",
    "outputId": "23dd52e9-07cb-4717-9274-bca02aeee622"
   },
   "outputs": [],
   "source": [
    "COLOR_TRANSFER = 'color_transfer.py'\n",
    "COLOR_FINAL_IMAGE_PATH = FINAL_IMAGE_PATH[:-4] + '_%s_color.png'\n",
    "\n",
    "# Optional - Use Histogram matching (0 for no, 1 for yes)\n",
    "HISTOGRAM_MATCH = 0\n",
    "\n",
    "if HISTOGRAM_MATCH == 0:\n",
    "    COLOR_FINAL_IMAGE_PATH = COLOR_FINAL_IMAGE_PATH % ('original')\n",
    "else:\n",
    "    COLOR_FINAL_IMAGE_PATH = COLOR_FINAL_IMAGE_PATH % ('histogram')\n",
    "\n",
    "!{sys.executable} {dir_path}/{COLOR_TRANSFER} {CONTENT_IMAGE_FN} {FINAL_IMAGE_PATH} --hist_match {HISTOGRAM_MATCH}\n"
   ]
  },
  {
   "cell_type": "code",
   "execution_count": null,
   "metadata": {
    "colab": {
     "base_uri": "https://localhost:8080/",
     "height": 608
    },
    "colab_type": "code",
    "id": "fjtHaqLFrCnP",
    "outputId": "59f45b5c-c38e-4ad9-9f93-4ecc71acea2d"
   },
   "outputs": [],
   "source": [
    "fig = plt.figure(figsize=(10, 10))\n",
    "img = plt.imread(COLOR_FINAL_IMAGE_PATH)\n",
    "plt.axis('off')\n",
    "plt.title('Color Transferred Generated image')\n",
    "plt.imshow(img)"
   ]
  },
  {
   "cell_type": "markdown",
   "metadata": {
    "colab_type": "text",
    "id": "iuI1tiIZ6XUh",
    "tags": [
     "en"
    ]
   },
   "source": [
    "---\n",
    "\n",
    "## Task 1: Apply the Procedure to a Different Image/Style\n",
    "\n",
    "**Apply the same procedure to different content and style images.**\n",
    "\n",
    "**Note:** You can use the code above: just uncomment the cells that allow you to upload new images.\n",
    "\n",
    "---"
   ]
  },
  {
   "cell_type": "code",
   "execution_count": null,
   "metadata": {
    "colab": {},
    "colab_type": "code",
    "id": "QNwcJstlVKmW"
   },
   "outputs": [],
   "source": []
  }
 ],
 "metadata": {
  "accelerator": "GPU",
  "celltoolbar": "Tags",
  "colab": {
   "collapsed_sections": [],
   "name": "10_neural_art.ipynb",
   "provenance": []
  },
  "kernelspec": {
   "display_name": "Python 3",
   "language": "python",
   "name": "python3"
  },
  "language_info": {
   "codemirror_mode": {
    "name": "ipython",
    "version": 3
   },
   "file_extension": ".py",
   "mimetype": "text/x-python",
   "name": "python",
   "nbconvert_exporter": "python",
   "pygments_lexer": "ipython3",
   "version": "3.7.5"
  }
 },
 "nbformat": 4,
 "nbformat_minor": 0
}
