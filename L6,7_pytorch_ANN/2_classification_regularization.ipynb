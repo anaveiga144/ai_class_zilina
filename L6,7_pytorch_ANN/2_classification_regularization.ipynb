{
 "cells": [
  {
   "cell_type": "markdown",
   "metadata": {
    "colab_type": "text",
    "id": "sbbM4HbNK-9J",
    "tags": [
     "en"
    ]
   },
   "source": [
    "**NOTE: This notebook is written for the Google Colab platform, which provides free hardware acceleration. However it can also be run (possibly with minor modifications) as a standard Jupyter notebook, using a local GPU.**"
   ]
  },
  {
   "cell_type": "code",
   "execution_count": null,
   "metadata": {
    "colab": {
     "base_uri": "https://localhost:8080/",
     "height": 208
    },
    "colab_type": "code",
    "id": "4ANSllpGK-9Y",
    "outputId": "4a2ae11e-2741-4703-a906-578c735e8c8a"
   },
   "outputs": [],
   "source": [
    "#@title -- Installation of Packages -- { display-mode: \"form\" }\n",
    "import sys\n",
    "!{sys.executable} -m pip install skorch"
   ]
  },
  {
   "cell_type": "code",
   "execution_count": null,
   "metadata": {
    "colab": {
     "base_uri": "https://localhost:8080/",
     "height": 72
    },
    "colab_type": "code",
    "id": "YJSZAu1FK-9v",
    "outputId": "d41a0e95-ebe9-447e-aa97-d27aef1221cd"
   },
   "outputs": [],
   "source": [
    "#@title -- Import of Necessary Packages -- { display-mode: \"form\" }\n",
    "import numpy as np\n",
    "import pandas as pd\n",
    "from sklearn.model_selection import train_test_split\n",
    "from sklearn.preprocessing import StandardScaler, OneHotEncoder, KBinsDiscretizer\n",
    "from sklearn.impute import SimpleImputer\n",
    "from sklearn.compose import make_column_transformer\n",
    "from sklearn.pipeline import make_pipeline\n",
    "from sklearn.metrics import accuracy_score\n",
    "from skorch import NeuralNetClassifier\n",
    "from skorch.helper import predefined_split\n",
    "from skorch.callbacks import EarlyStopping\n",
    "from torch.utils.data import TensorDataset\n",
    "import torch.nn as nn\n",
    "import torch"
   ]
  },
  {
   "cell_type": "code",
   "execution_count": null,
   "metadata": {
    "colab": {
     "base_uri": "https://localhost:8080/",
     "height": 384
    },
    "colab_type": "code",
    "id": "RnPU7T0VK--J",
    "outputId": "2c1fa012-3fa3-4e71-a2d2-238b44137945"
   },
   "outputs": [],
   "source": [
    "#@title -- Downloading Data -- { display-mode: \"form\" }\n",
    "!mkdir -p data/winequality\n",
    "!wget -nc -O data/winequality.zip https://www.dropbox.com/s/8s0ivlo9yshhxkn/winequality.zip?dl=1\n",
    "!unzip -oq -d data/winequality data/winequality.zip"
   ]
  },
  {
   "cell_type": "code",
   "execution_count": null,
   "metadata": {
    "colab": {},
    "colab_type": "code",
    "id": "UJ4dFmgZK--a"
   },
   "outputs": [],
   "source": [
    "#@title -- Auxiliary Functions -- { display-mode: \"form\" }\n",
    "def predefined_array_split(X_valid, Y_valid):\n",
    "    return predefined_split(\n",
    "        TensorDataset(\n",
    "            torch.as_tensor(X_valid),\n",
    "            torch.as_tensor(Y_valid)\n",
    "        )\n",
    "    )"
   ]
  },
  {
   "cell_type": "markdown",
   "metadata": {
    "colab_type": "text",
    "id": "5SLk1arGK--q",
    "tags": [
     "en"
    ]
   },
   "source": [
    "# Classifying Wine Quality using Neural Nets\n",
    "\n",
    "In this notebook you can try out a neural classifier on another simple dataset.\n",
    "\n",
    "**Note:** The example is purely illustrational. The dataset is well-structured (the data is divided into columns with clear meanings etc.), and would therefore probably be approached with a different method in practice – possibly with some approached based on decision trees. Artificial neural networks and deep learning are usually applied to problems with unstructured data, such as images, audio, text etc.\n",
    "\n",
    "## Loading and Preprocessing the Dataset\n",
    "\n",
    "We will load the dataset from a CSV file:"
   ]
  },
  {
   "cell_type": "code",
   "execution_count": null,
   "metadata": {
    "colab": {
     "base_uri": "https://localhost:8080/",
     "height": 206
    },
    "colab_type": "code",
    "id": "ClWoKTQEK--z",
    "outputId": "03f4d9d9-bc80-4773-b083-a310a0497ca5"
   },
   "outputs": [],
   "source": [
    "df = pd.read_csv(\"data/winequality/winequality-white.csv\")\n",
    "df.head()"
   ]
  },
  {
   "cell_type": "markdown",
   "metadata": {
    "colab_type": "text",
    "id": "gPAnn_X6K-_B",
    "tags": [
     "en"
    ]
   },
   "source": [
    "The description of the data comes in a separate file, should we need it:"
   ]
  },
  {
   "cell_type": "code",
   "execution_count": null,
   "metadata": {
    "colab": {
     "base_uri": "https://localhost:8080/",
     "height": 1000
    },
    "colab_type": "code",
    "id": "agNFax_-K-_M",
    "outputId": "20bd719c-ad96-4a97-c2eb-a04a3a6fb1b4"
   },
   "outputs": [],
   "source": [
    "with open(\"data/winequality/winequality\", \"r\") as file:\n",
    "    print(\"\".join(file.readlines()))"
   ]
  },
  {
   "cell_type": "markdown",
   "metadata": {
    "colab_type": "text",
    "id": "6q4B9PkjK-_a",
    "tags": [
     "en"
    ]
   },
   "source": [
    "### The Splitting of the Dataset\n",
    "\n",
    "Next we continue by splitting the dataset. In this case, however, the data will not be split into two parts the way we usually split it, but rather into three parts: training, validation and testing data in the ratio of 70 : 5 : 25. The validation data will be used during learning for regularization and model selection (the details are below). When splitting, we stratify by quality."
   ]
  },
  {
   "cell_type": "code",
   "execution_count": null,
   "metadata": {
    "colab": {},
    "colab_type": "code",
    "id": "it9yeH0QK-_i"
   },
   "outputs": [],
   "source": [
    "df_train_valid, df_test = train_test_split(df, test_size=0.25,\n",
    "                                     stratify=df['quality'],\n",
    "                                     random_state=4)\n",
    "df_train, df_valid = train_test_split(df_train_valid, test_size=0.05/0.75,\n",
    "                                     stratify=df_train_valid['quality'],\n",
    "                                     random_state=4)"
   ]
  },
  {
   "cell_type": "markdown",
   "metadata": {
    "colab_type": "text",
    "id": "1D1POYkSK-_u",
    "tags": [
     "en"
    ]
   },
   "source": [
    "### Column Selection and Pipeline Creation\n",
    "\n",
    "As usual, we will determine which columns are numeric and which are categorical and we will create our pipeline object for preprocessing."
   ]
  },
  {
   "cell_type": "code",
   "execution_count": null,
   "metadata": {
    "colab": {},
    "colab_type": "code",
    "id": "c5JkS7xWK-_2"
   },
   "outputs": [],
   "source": [
    "categorical_inputs = []\n",
    "numeric_inputs = list(df.columns[:-1])\n",
    "output = [\"quality\"]\n",
    "\n",
    "input_preproc = make_column_transformer(\n",
    "    (make_pipeline(\n",
    "        SimpleImputer(strategy='constant', fill_value='MISSING'),\n",
    "        OneHotEncoder()),\n",
    "     categorical_inputs),\n",
    "    \n",
    "    (make_pipeline(\n",
    "        SimpleImputer(),\n",
    "        StandardScaler()),\n",
    "     numeric_inputs)\n",
    ")"
   ]
  },
  {
   "cell_type": "markdown",
   "metadata": {
    "colab_type": "text",
    "id": "OnKBk-0YK_AD",
    "tags": [
     "en"
    ]
   },
   "source": [
    "Wine quality is given on a scale from 1 to 10 in our dataset (column ``quality``). Given that our dataset contains a relatively large amount of noise, this scale might be too fine: we will instead differentiate between three degrees of quality and we will do the transformation to the new scale automatically: using transformer ``KBinsDiscretizer`` from the ``scikit-learn`` package."
   ]
  },
  {
   "cell_type": "code",
   "execution_count": null,
   "metadata": {
    "colab": {},
    "colab_type": "code",
    "id": "2LaQCaouK_AK"
   },
   "outputs": [],
   "source": [
    "output_preproc = KBinsDiscretizer(3, encode='ordinal', strategy='quantile')"
   ]
  },
  {
   "cell_type": "markdown",
   "metadata": {
    "colab_type": "text",
    "id": "Yr143A6hK_AV",
    "tags": [
     "en"
    ]
   },
   "source": [
    "### Application of Pre-processing\n",
    "\n",
    "Finally, we apply our transformers to the data. As usual, we make sure to apply the ``transform`` method and not the ``fit_transform`` method to our testing – and in this case also to our validation – data."
   ]
  },
  {
   "cell_type": "code",
   "execution_count": null,
   "metadata": {
    "colab": {},
    "colab_type": "code",
    "id": "18P5pSuMK_Ab"
   },
   "outputs": [],
   "source": [
    "X_train = input_preproc.fit_transform(df_train[categorical_inputs+numeric_inputs])\n",
    "Y_train = output_preproc.fit_transform(df_train[output]).reshape(-1)\n",
    "\n",
    "X_valid = input_preproc.transform(df_valid[categorical_inputs+numeric_inputs])\n",
    "Y_valid = output_preproc.transform(df_valid[output]).reshape(-1)\n",
    "\n",
    "X_test = input_preproc.transform(df_test[categorical_inputs+numeric_inputs])\n",
    "Y_test = output_preproc.transform(df_test[output]).reshape(-1)"
   ]
  },
  {
   "cell_type": "markdown",
   "metadata": {
    "colab_type": "text",
    "id": "ulLh8aH5K_Al",
    "tags": [
     "en"
    ]
   },
   "source": [
    "We also convert into the datatypes expected by Pytorch, i.e. to 32-bit floats (inputs) and 64-bit integers (class labels)."
   ]
  },
  {
   "cell_type": "code",
   "execution_count": null,
   "metadata": {
    "colab": {},
    "colab_type": "code",
    "id": "s81Nm3XZK_As"
   },
   "outputs": [],
   "source": [
    "X_train = X_train.astype(np.float32)\n",
    "Y_train = Y_train.astype(np.int64)\n",
    "X_valid = X_valid.astype(np.float32)\n",
    "Y_valid = Y_valid.astype(np.int64)\n",
    "X_test = X_test.astype(np.float32)\n",
    "Y_test = Y_test.astype(np.int64)"
   ]
  },
  {
   "cell_type": "markdown",
   "metadata": {
    "colab_type": "text",
    "id": "yKvggbQIK_A2",
    "tags": [
     "en"
    ]
   },
   "source": [
    "---\n",
    "## Task 1\n",
    "\n",
    "**Apply a neural classifier to the wine quality classification problem.**\n",
    "\n",
    "**Note: It may be useful to insert more layers and with a greater number of neurons than in the case of the IRIS dataset.**\n",
    "\n",
    "---"
   ]
  },
  {
   "cell_type": "code",
   "execution_count": null,
   "metadata": {
    "colab": {},
    "colab_type": "code",
    "id": "Kja-0c4MK_BJ",
    "tags": [
     "student"
    ]
   },
   "outputs": [],
   "source": [
    "device = \"cuda\" if torch.cuda.is_available() else \"cpu\"\n",
    "\n",
    "num_inputs = X_train.shape[1]\n",
    "num_outputs = len(np.unique(Y_train))\n",
    "\n",
    "class Net(nn.Module):\n",
    "\n",
    "    \n",
    "    # ------\n",
    "\n",
    "\n",
    "\n"
   ]
  },
  {
   "cell_type": "markdown",
   "metadata": {
    "colab_type": "text",
    "id": "mH9-xhHqK_BT",
    "tags": [
     "en"
    ]
   },
   "source": [
    "### Testing the Model on the Validation Set\n",
    "\n",
    "Given that this is not the final version of our model (we will introduce other versions below), we will **not yet test the performance using the testing set** (we need to hold that out for the final testing in order to verify generalization), but rather using the **validation set**."
   ]
  },
  {
   "cell_type": "markdown",
   "metadata": {
    "colab_type": "text",
    "id": "PpNiXe8fK_Bk",
    "tags": [
     "en"
    ]
   },
   "source": [
    "# Regularization\n",
    "\n",
    "To prevent overfitting and improve generalization, it is good to use some regularization methods. The name regularization derives from the fact that we want our model to capture the real regularities in the data and not the noise. I.e. we want the model to generalize correctly. There is a number of approaches that can help. In this section of the notebook we will consider at least some of the very simple ones.\n",
    "\n",
    "Some regularization methods will require data in order to tune the regularization parameters etc. We cannot use the testing data for this purpose – otherwise we would not be able to use them to verify generalization afterwards. This is why we have set apart the **validation set**. This separate set can be used throughout learning to estimate how well the model is going to generalize – but we still have a separate testing set which is not available to the model during training in any way.\n",
    "\n",
    "## Early Stopping\n",
    "\n",
    "The first regularization method that we are going to consider is early stopping. Early stopping means that we stop training as soon as the loss on the validation set stops decreasing – even if the loss on the training data continues to decrease. This is because in such case the network is not likely to generalize correctly and the performance on the training set is increasing because the model has started to memorize the samples."
   ]
  },
  {
   "cell_type": "markdown",
   "metadata": {
    "colab_type": "text",
    "id": "ctIlOnJRK_Bx",
    "tags": [
     "en"
    ]
   },
   "source": [
    "<img alt=\"overfitting\" width=\"400\" src=\"data:image/jpg;base64,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\" />"
   ]
  },
  {
   "cell_type": "markdown",
   "metadata": {
    "colab_type": "text",
    "id": "5ymA1_QIK_B2",
    "tags": [
     "en"
    ]
   },
   "source": [
    "## Early Stopping Using the ``skorch`` package\n",
    "\n",
    "In the ``skorch`` package early stopping can be achieved using the ``EarlyStopping`` class – by adding its instance among the classifier's **callbacks**. When creating the instance, we can specify a few parameters. The most important of these is:\n",
    "* **``patience``:** specifies how many steps we wait once the validation loss stops decreasing before we stop learning.\n",
    "\n",
    "Parameter ``patience`` is set to 5 by default. In some cases, especially when the validation set is very small, it may be better to use a slightly higher patience: we cannot be confident that the validation loss will not decrease further in the following epochs.\n",
    "\n",
    "In order to evaluate the loss on validation data, we will of course need to specify the data. This can be done using the ``train_split`` argument to which we will assign our validation set using the auxiliary function ``predefined_array_split``."
   ]
  },
  {
   "cell_type": "code",
   "execution_count": null,
   "metadata": {
    "colab": {},
    "colab_type": "code",
    "id": "3QVeqaB5K_B_"
   },
   "outputs": [],
   "source": [
    "net = NeuralNetClassifier(\n",
    "    Net,\n",
    "    max_epochs=200,\n",
    "    batch_size=-1,\n",
    "    optimizer=torch.optim.Adam,\n",
    "    train_split=predefined_array_split(X_valid, Y_valid),\n",
    "    device=device,\n",
    "    callbacks=[\n",
    "        EarlyStopping(patience=10)\n",
    "    ]\n",
    ")"
   ]
  },
  {
   "cell_type": "code",
   "execution_count": null,
   "metadata": {
    "colab": {
     "base_uri": "https://localhost:8080/",
     "height": 1000
    },
    "colab_type": "code",
    "id": "fZ4yfDbAK_CM",
    "outputId": "a0ac30bf-1673-4272-9cc0-5bc95decb9dd"
   },
   "outputs": [],
   "source": [
    "net.fit(X_train, Y_train)"
   ]
  },
  {
   "cell_type": "markdown",
   "metadata": {
    "colab_type": "text",
    "id": "72j8DiAJK_CX",
    "tags": [
     "en"
    ]
   },
   "source": [
    "### Testing on the Validation Set\n",
    "\n",
    "The resulting network will again be tested on the validation set. If we are lucky the results will be somewhat better than in the previous case. Of course, this cannot be guaranteed – it depends on all the hyperparameters and also on some random variables (such as those related to weight initialization)."
   ]
  },
  {
   "cell_type": "code",
   "execution_count": null,
   "metadata": {
    "colab": {
     "base_uri": "https://localhost:8080/",
     "height": 121
    },
    "colab_type": "code",
    "id": "--sQh9zTK_Ce",
    "outputId": "c9f8ca73-4968-4fef-e6a4-a58139c6e3f7"
   },
   "outputs": [],
   "source": [
    "y_valid = net.predict(X_valid)\n",
    "\n",
    "cm = pd.crosstab(\n",
    "    output_preproc.inverse_transform(\n",
    "        Y_valid.reshape(-1, 1)).reshape(-1),\n",
    "    output_preproc.inverse_transform(\n",
    "        y_valid.reshape(-1, 1)).reshape(-1),\n",
    "    rownames=['actual'],\n",
    "    colnames=['predicted']\n",
    ")\n",
    "print(cm)\n",
    "\n",
    "acc = accuracy_score(Y_valid, y_valid)\n",
    "print(\"Accuracy on valid = {}\".format(acc))"
   ]
  },
  {
   "cell_type": "markdown",
   "metadata": {
    "colab_type": "text",
    "id": "sKm5VoP1K_Cr",
    "tags": [
     "en"
    ]
   },
   "source": [
    "## Dropout\n",
    "\n",
    "With some neural architectures overfitting may occur so fast that early stopping will not be able to improve the results sufficiently. In such cases we might need other ways to decrease the capacity of the model and make it converge a little more gradually.\n",
    "\n",
    "We can, for instance, use the ``nn.Dropout`` layer – in that case a portion of the neurons in the corresponding layer will be turned off randomly. The probability of turning off is one of the layer's parameters. Let us say that we want the probability of turning off the individual outputs of a particular layer to be 0.2. We could then add a dropout layer after it in the following way:\n",
    "```python\n",
    "class Net(nn.Module):\n",
    "    def __init__(self):\n",
    "        \n",
    "        ...\n",
    "        \n",
    "        self.dropout = nn.Dropout(0.2)\n",
    "\n",
    "        ...\n",
    "        \n",
    "    def forward(self, x):\n",
    "\n",
    "        ...\n",
    "        \n",
    "        y = torch.relu(y)\n",
    "        y = self.dropout(y)\n",
    "        \n",
    "        ...\n",
    "        \n",
    "```\n",
    "\n",
    "We typically do not insert a dropout layer after the output layer (given that the outputs are read directly from the output layer, if its outputs are zeroes out, this will cause errors that no network – no matter how robust – would be able to prevent).\n",
    "\n",
    "### Dropout and the Model's Capacity\n",
    "\n",
    "Whenever we use more agressive forms of regularization, this may reduce the capacity of the model too significantly. When using many ``Dropout`` layers, it can therefore be necessary to make the model a bit larger than it would ordinarily be.\n",
    "\n",
    "The interaction between various kinds of regularization can also be nontrivial: e.g. when using dropout, we can expect the validation loss to be a lot more noisy (new sources of stochasticity have been added); it can therefore be necessary to use significantly larger values of ``patience`` in such cases.\n",
    "\n",
    "---\n",
    "\n",
    "## Task 2\n",
    "\n",
    "**Try to insert a few ``Dropout`` layers into your networks. E.g. one ``Dropout`` layer after each ``relu``.**\n",
    "\n",
    "**When testing the effectiveness of your regularization only use the validation set. The testing set needs to be held out until the end – we can only use it once!**\n",
    "\n",
    "---"
   ]
  },
  {
   "cell_type": "code",
   "execution_count": null,
   "metadata": {
    "colab": {},
    "colab_type": "code",
    "id": "xtVbb6TPK_DL",
    "tags": [
     "student"
    ]
   },
   "outputs": [],
   "source": [
    "\n",
    "\n",
    "\n",
    "\n",
    "\n",
    "\n",
    "\n",
    "\n",
    "\n",
    "\n"
   ]
  },
  {
   "cell_type": "markdown",
   "metadata": {
    "colab_type": "text",
    "id": "r9qolgoGK_DZ",
    "tags": [
     "en"
    ]
   },
   "source": [
    "### Testing on the Validation Set\n",
    "\n",
    "We will again test on the validation set."
   ]
  },
  {
   "cell_type": "code",
   "execution_count": null,
   "metadata": {
    "colab": {
     "base_uri": "https://localhost:8080/",
     "height": 121
    },
    "colab_type": "code",
    "id": "c3TkTZEAK_Dg",
    "outputId": "f401cb85-d777-4d2b-8785-d2e0a9e84a32"
   },
   "outputs": [],
   "source": [
    "y_valid = net.predict(X_valid)\n",
    "\n",
    "cm = pd.crosstab(\n",
    "    output_preproc.inverse_transform(\n",
    "        Y_valid.reshape(-1, 1)).reshape(-1),\n",
    "    output_preproc.inverse_transform(\n",
    "        y_valid.reshape(-1, 1)).reshape(-1),\n",
    "    rownames=['actual'],\n",
    "    colnames=['predicted']\n",
    ")\n",
    "print(cm)\n",
    "\n",
    "acc = accuracy_score(Y_valid, y_valid)\n",
    "print(\"Accuracy on valid = {}\".format(acc))"
   ]
  },
  {
   "cell_type": "markdown",
   "metadata": {
    "colab_type": "text",
    "id": "jkHzmJtiK_Ds",
    "tags": [
     "en"
    ]
   },
   "source": [
    "## Výsledky na testovacej množine\n",
    "\n",
    "Once we have arrived at our final model, we will finally test its generalization on the testing data as well. Accuracy of around 75 – 77% will be a relatively good result on this dataset."
   ]
  },
  {
   "cell_type": "code",
   "execution_count": null,
   "metadata": {
    "colab": {
     "base_uri": "https://localhost:8080/",
     "height": 121
    },
    "colab_type": "code",
    "id": "0rUKHyqCK_Dx",
    "outputId": "83b54a7f-a5da-42f7-f108-eadb44b906ba"
   },
   "outputs": [],
   "source": [
    "y_test = net.predict(X_test)\n",
    "\n",
    "cm = pd.crosstab(\n",
    "    output_preproc.inverse_transform(\n",
    "        Y_test.reshape(-1, 1)).reshape(-1),\n",
    "    output_preproc.inverse_transform(\n",
    "        y_test.reshape(-1, 1)).reshape(-1),\n",
    "    rownames=['actual'],\n",
    "    colnames=['predicted']\n",
    ")\n",
    "print(cm)\n",
    "\n",
    "acc = accuracy_score(Y_test, y_test)\n",
    "print(\"Accuracy on test = {}\".format(acc))"
   ]
  },
  {
   "cell_type": "markdown",
   "metadata": {
    "colab_type": "text",
    "id": "f-irkW--K_D7",
    "tags": [
     "en"
    ]
   },
   "source": [
    "## Classification Using Gradient-Boosted Decision Trees\n",
    "\n",
    "To reinforce the point that neural nets do not bring many advantages when applied to structured data and that better results can usually be achieved by other methods, we will now compare our results with the ``LightGBM`` method, which is based on an ensemble of decision trees created using gradient boosting. There is a good chance that the results will be better than we could achieve using a neural net: and the learning will be significantly faster. The real advantages of neural networks will only become obvious once we start to apply them to more complex data such as image, audio, etc."
   ]
  },
  {
   "cell_type": "code",
   "execution_count": null,
   "metadata": {
    "colab": {
     "base_uri": "https://localhost:8080/",
     "height": 121
    },
    "colab_type": "code",
    "id": "wjbNKJWtK_EB",
    "outputId": "cc8f098b-5011-4020-a685-15ae9330e6be"
   },
   "outputs": [],
   "source": [
    "from lightgbm import LGBMClassifier\n",
    "\n",
    "lgb = LGBMClassifier()\n",
    "lgb.fit(X_train, Y_train)\n",
    "\n",
    "y_test = lgb.predict(X_test)\n",
    "cm = pd.crosstab(Y_test.reshape(-1),\n",
    "                 y_test.reshape(-1),\n",
    "                 rownames=['actual'],\n",
    "                 colnames=['predicted'])\n",
    "print(cm)\n",
    "\n",
    "print(\"Accuracy on test: {}.\".format(accuracy_score(\n",
    "    Y_test, y_test\n",
    ")))"
   ]
  },
  {
   "cell_type": "code",
   "execution_count": null,
   "metadata": {
    "colab": {},
    "colab_type": "code",
    "id": "3NunRMYRK_EO"
   },
   "outputs": [],
   "source": []
  }
 ],
 "metadata": {
  "accelerator": "GPU",
  "celltoolbar": "Tags",
  "colab": {
   "name": "2_classification_regularization.ipynb",
   "provenance": []
  },
  "kernelspec": {
   "display_name": "Python 3",
   "language": "python",
   "name": "python3"
  },
  "language_info": {
   "codemirror_mode": {
    "name": "ipython",
    "version": 3
   },
   "file_extension": ".py",
   "mimetype": "text/x-python",
   "name": "python",
   "nbconvert_exporter": "python",
   "pygments_lexer": "ipython3",
   "version": "3.7.5"
  }
 },
 "nbformat": 4,
 "nbformat_minor": 0
}
