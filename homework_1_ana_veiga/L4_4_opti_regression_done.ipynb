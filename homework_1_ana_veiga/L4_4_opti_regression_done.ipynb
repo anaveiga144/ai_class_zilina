{
  "nbformat": 4,
  "nbformat_minor": 0,
  "metadata": {
    "celltoolbar": "Tags",
    "kernelspec": {
      "display_name": "Python 3",
      "language": "python",
      "name": "python3"
    },
    "language_info": {
      "codemirror_mode": {
        "name": "ipython",
        "version": 3
      },
      "file_extension": ".py",
      "mimetype": "text/x-python",
      "name": "python",
      "nbconvert_exporter": "python",
      "pygments_lexer": "ipython3",
      "version": "3.7.5"
    },
    "colab": {
      "name": "4_opti_regression.ipynb",
      "provenance": []
    }
  },
  "cells": [
    {
      "cell_type": "markdown",
      "metadata": {
        "tags": [
          "en"
        ],
        "id": "k9_Z4lByI__K",
        "colab_type": "text"
      },
      "source": [
        "**NOTE: This notebook is written for the Google Colab platform. However it can also be run (possibly with minor modifications) as a standard Jupyter notebook.**"
      ]
    },
    {
      "cell_type": "code",
      "metadata": {
        "id": "b6ar4Z1pI__M",
        "colab_type": "code",
        "colab": {
          "base_uri": "https://localhost:8080/",
          "height": 1000
        },
        "outputId": "ba8f33cf-58ab-4494-90db-ccfc377ad95f"
      },
      "source": [
        "#@title -- Installation of Packages -- { display-mode: \"form\" }\n",
        "import sys\n",
        "!{sys.executable} -m pip install git+https://github.com/michalgregor/class_utils.git"
      ],
      "execution_count": 1,
      "outputs": [
        {
          "output_type": "stream",
          "text": [
            "Collecting git+https://github.com/michalgregor/class_utils.git\n",
            "  Cloning https://github.com/michalgregor/class_utils.git to /tmp/pip-req-build-unzz_q8c\n",
            "  Running command git clone -q https://github.com/michalgregor/class_utils.git /tmp/pip-req-build-unzz_q8c\n",
            "Requirement already satisfied: numpy in /usr/local/lib/python3.6/dist-packages (from class-utils==0.1) (1.18.2)\n",
            "Requirement already satisfied: pandas in /usr/local/lib/python3.6/dist-packages (from class-utils==0.1) (1.0.3)\n",
            "Requirement already satisfied: matplotlib in /usr/local/lib/python3.6/dist-packages (from class-utils==0.1) (3.2.1)\n",
            "Requirement already satisfied: ipython in /usr/local/lib/python3.6/dist-packages (from class-utils==0.1) (5.5.0)\n",
            "Requirement already satisfied: seaborn in /usr/local/lib/python3.6/dist-packages (from class-utils==0.1) (0.10.0)\n",
            "Requirement already satisfied: scikit-learn in /usr/local/lib/python3.6/dist-packages (from class-utils==0.1) (0.22.2.post1)\n",
            "Requirement already satisfied: scipy in /usr/local/lib/python3.6/dist-packages (from class-utils==0.1) (1.4.1)\n",
            "Collecting lime\n",
            "\u001b[?25l  Downloading https://files.pythonhosted.org/packages/27/ee/4aaac4cd79f16329746495aca96f8c35f278b5c774eff3358eaa21e1cbf3/lime-0.2.0.0.tar.gz (274kB)\n",
            "\u001b[K     |████████████████████████████████| 276kB 2.8MB/s \n",
            "\u001b[?25hCollecting eli5\n",
            "\u001b[?25l  Downloading https://files.pythonhosted.org/packages/97/2f/c85c7d8f8548e460829971785347e14e45fa5c6617da374711dec8cb38cc/eli5-0.10.1-py2.py3-none-any.whl (105kB)\n",
            "\u001b[K     |████████████████████████████████| 112kB 48.2MB/s \n",
            "\u001b[?25hCollecting pdpbox\n",
            "\u001b[?25l  Downloading https://files.pythonhosted.org/packages/87/23/ac7da5ba1c6c03a87c412e7e7b6e91a10d6ecf4474906c3e736f93940d49/PDPbox-0.2.0.tar.gz (57.7MB)\n",
            "\u001b[K     |████████████████████████████████| 57.7MB 69kB/s \n",
            "\u001b[?25hRequirement already satisfied: graphviz in /usr/local/lib/python3.6/dist-packages (from class-utils==0.1) (0.10.1)\n",
            "Requirement already satisfied: pytz>=2017.2 in /usr/local/lib/python3.6/dist-packages (from pandas->class-utils==0.1) (2018.9)\n",
            "Requirement already satisfied: python-dateutil>=2.6.1 in /usr/local/lib/python3.6/dist-packages (from pandas->class-utils==0.1) (2.8.1)\n",
            "Requirement already satisfied: kiwisolver>=1.0.1 in /usr/local/lib/python3.6/dist-packages (from matplotlib->class-utils==0.1) (1.2.0)\n",
            "Requirement already satisfied: pyparsing!=2.0.4,!=2.1.2,!=2.1.6,>=2.0.1 in /usr/local/lib/python3.6/dist-packages (from matplotlib->class-utils==0.1) (2.4.7)\n",
            "Requirement already satisfied: cycler>=0.10 in /usr/local/lib/python3.6/dist-packages (from matplotlib->class-utils==0.1) (0.10.0)\n",
            "Requirement already satisfied: traitlets>=4.2 in /usr/local/lib/python3.6/dist-packages (from ipython->class-utils==0.1) (4.3.3)\n",
            "Requirement already satisfied: setuptools>=18.5 in /usr/local/lib/python3.6/dist-packages (from ipython->class-utils==0.1) (46.1.3)\n",
            "Requirement already satisfied: decorator in /usr/local/lib/python3.6/dist-packages (from ipython->class-utils==0.1) (4.4.2)\n",
            "Requirement already satisfied: pexpect; sys_platform != \"win32\" in /usr/local/lib/python3.6/dist-packages (from ipython->class-utils==0.1) (4.8.0)\n",
            "Requirement already satisfied: prompt-toolkit<2.0.0,>=1.0.4 in /usr/local/lib/python3.6/dist-packages (from ipython->class-utils==0.1) (1.0.18)\n",
            "Requirement already satisfied: pygments in /usr/local/lib/python3.6/dist-packages (from ipython->class-utils==0.1) (2.1.3)\n",
            "Requirement already satisfied: pickleshare in /usr/local/lib/python3.6/dist-packages (from ipython->class-utils==0.1) (0.7.5)\n",
            "Requirement already satisfied: simplegeneric>0.8 in /usr/local/lib/python3.6/dist-packages (from ipython->class-utils==0.1) (0.8.1)\n",
            "Requirement already satisfied: joblib>=0.11 in /usr/local/lib/python3.6/dist-packages (from scikit-learn->class-utils==0.1) (0.14.1)\n",
            "Requirement already satisfied: tqdm in /usr/local/lib/python3.6/dist-packages (from lime->class-utils==0.1) (4.38.0)\n",
            "Collecting pillow==5.4.1\n",
            "\u001b[?25l  Downloading https://files.pythonhosted.org/packages/85/5e/e91792f198bbc5a0d7d3055ad552bc4062942d27eaf75c3e2783cf64eae5/Pillow-5.4.1-cp36-cp36m-manylinux1_x86_64.whl (2.0MB)\n",
            "\u001b[K     |████████████████████████████████| 2.0MB 39.5MB/s \n",
            "\u001b[?25hRequirement already satisfied: scikit-image>=0.12 in /usr/local/lib/python3.6/dist-packages (from lime->class-utils==0.1) (0.16.2)\n",
            "Requirement already satisfied: six in /usr/local/lib/python3.6/dist-packages (from eli5->class-utils==0.1) (1.12.0)\n",
            "Requirement already satisfied: tabulate>=0.7.7 in /usr/local/lib/python3.6/dist-packages (from eli5->class-utils==0.1) (0.8.7)\n",
            "Requirement already satisfied: attrs>16.0.0 in /usr/local/lib/python3.6/dist-packages (from eli5->class-utils==0.1) (19.3.0)\n",
            "Requirement already satisfied: jinja2 in /usr/local/lib/python3.6/dist-packages (from eli5->class-utils==0.1) (2.11.2)\n",
            "Requirement already satisfied: psutil in /usr/local/lib/python3.6/dist-packages (from pdpbox->class-utils==0.1) (5.4.8)\n",
            "Requirement already satisfied: ipython-genutils in /usr/local/lib/python3.6/dist-packages (from traitlets>=4.2->ipython->class-utils==0.1) (0.2.0)\n",
            "Requirement already satisfied: ptyprocess>=0.5 in /usr/local/lib/python3.6/dist-packages (from pexpect; sys_platform != \"win32\"->ipython->class-utils==0.1) (0.6.0)\n",
            "Requirement already satisfied: wcwidth in /usr/local/lib/python3.6/dist-packages (from prompt-toolkit<2.0.0,>=1.0.4->ipython->class-utils==0.1) (0.1.9)\n",
            "Requirement already satisfied: imageio>=2.3.0 in /usr/local/lib/python3.6/dist-packages (from scikit-image>=0.12->lime->class-utils==0.1) (2.4.1)\n",
            "Requirement already satisfied: networkx>=2.0 in /usr/local/lib/python3.6/dist-packages (from scikit-image>=0.12->lime->class-utils==0.1) (2.4)\n",
            "Requirement already satisfied: PyWavelets>=0.4.0 in /usr/local/lib/python3.6/dist-packages (from scikit-image>=0.12->lime->class-utils==0.1) (1.1.1)\n",
            "Requirement already satisfied: MarkupSafe>=0.23 in /usr/local/lib/python3.6/dist-packages (from jinja2->eli5->class-utils==0.1) (1.1.1)\n",
            "Building wheels for collected packages: class-utils, lime, pdpbox\n",
            "  Building wheel for class-utils (setup.py) ... \u001b[?25l\u001b[?25hdone\n",
            "  Created wheel for class-utils: filename=class_utils-0.1-cp36-none-any.whl size=6463 sha256=31d3275c6310eee0da9573c4a64a355ab96ae6c5c03ea416e0b8ded80fb287a0\n",
            "  Stored in directory: /tmp/pip-ephem-wheel-cache-unngni_3/wheels/0c/d3/63/b380d96ed74ced47fcdb67bfb9aee184bfdc970b956a65096d\n",
            "  Building wheel for lime (setup.py) ... \u001b[?25l\u001b[?25hdone\n",
            "  Created wheel for lime: filename=lime-0.2.0.0-cp36-none-any.whl size=284181 sha256=ed183a5b42521ef7fc052841b46491e1d0f324a979994838d6b11dfe3e7e265e\n",
            "  Stored in directory: /root/.cache/pip/wheels/22/f2/ec/e5ebd07348b2b1ac722e91c2f549fcc220f7d5f25497a61232\n",
            "  Building wheel for pdpbox (setup.py) ... \u001b[?25l\u001b[?25hdone\n",
            "  Created wheel for pdpbox: filename=PDPbox-0.2.0-cp36-none-any.whl size=57690722 sha256=7c7d174359d385f44f57defcf1adb2dd692e7ee90dbe10082056039136c3cb8f\n",
            "  Stored in directory: /root/.cache/pip/wheels/7d/08/51/63fd122b04a2c87d780464eeffb94867c75bd96a64d500a3fe\n",
            "Successfully built class-utils lime pdpbox\n",
            "\u001b[31mERROR: albumentations 0.1.12 has requirement imgaug<0.2.7,>=0.2.5, but you'll have imgaug 0.2.9 which is incompatible.\u001b[0m\n",
            "Installing collected packages: pillow, lime, eli5, pdpbox, class-utils\n",
            "  Found existing installation: Pillow 7.0.0\n",
            "    Uninstalling Pillow-7.0.0:\n",
            "      Successfully uninstalled Pillow-7.0.0\n",
            "Successfully installed class-utils-0.1 eli5-0.10.1 lime-0.2.0.0 pdpbox-0.2.0 pillow-5.4.1\n"
          ],
          "name": "stdout"
        }
      ]
    },
    {
      "cell_type": "code",
      "metadata": {
        "id": "mcMK7t7vI__Y",
        "colab_type": "code",
        "colab": {
          "base_uri": "https://localhost:8080/",
          "height": 92
        },
        "outputId": "6d6f69a2-969d-4170-c29f-5480b81c25d6"
      },
      "source": [
        "#@title -- Import of Necessary Packages -- { display-mode: \"form\" }\n",
        "import pandas as pd\n",
        "import numpy as np\n",
        "import sympy as sp\n",
        "from sympy.utilities.lambdify import lambdify\n",
        "import matplotlib.pyplot as plt\n",
        "from scipy.optimize import minimize\n",
        "from scipy.optimize import curve_fit\n",
        "from sklearn.model_selection import train_test_split\n",
        "from sklearn.impute import SimpleImputer\n",
        "from sklearn.preprocessing import StandardScaler, OrdinalEncoder, KBinsDiscretizer\n",
        "from sklearn.metrics import mean_squared_error, mean_absolute_error\n",
        "from sklearn.compose import make_column_transformer\n",
        "from sklearn.pipeline import make_pipeline\n",
        "from class_utils import error_histogram"
      ],
      "execution_count": 2,
      "outputs": [
        {
          "output_type": "stream",
          "text": [
            "/usr/local/lib/python3.6/dist-packages/statsmodels/tools/_testing.py:19: FutureWarning: pandas.util.testing is deprecated. Use the functions in the public API at pandas.testing instead.\n",
            "  import pandas.util.testing as tm\n",
            "Using TensorFlow backend.\n"
          ],
          "name": "stderr"
        }
      ]
    },
    {
      "cell_type": "code",
      "metadata": {
        "id": "c5TVOzDDI__k",
        "colab_type": "code",
        "colab": {
          "base_uri": "https://localhost:8080/",
          "height": 400
        },
        "outputId": "df6fa647-5f72-45ff-8ca2-58a0d5f2a2b8"
      },
      "source": [
        "#@title -- Downloading Data -- { display-mode: \"form\" }\n",
        "!mkdir -p output\n",
        "!mkdir -p data\n",
        "!wget -nc -O data/sigmoid_regression_data.csv https://www.dropbox.com/s/p5q7gzupa2ndw55/sigmoid_regression_data.csv?dl=1"
      ],
      "execution_count": 3,
      "outputs": [
        {
          "output_type": "stream",
          "text": [
            "--2020-04-23 13:05:45--  https://www.dropbox.com/s/p5q7gzupa2ndw55/sigmoid_regression_data.csv?dl=1\n",
            "Resolving www.dropbox.com (www.dropbox.com)... 162.125.9.1, 2620:100:601f:1::a27d:901\n",
            "Connecting to www.dropbox.com (www.dropbox.com)|162.125.9.1|:443... connected.\n",
            "HTTP request sent, awaiting response... 301 Moved Permanently\n",
            "Location: /s/dl/p5q7gzupa2ndw55/sigmoid_regression_data.csv [following]\n",
            "--2020-04-23 13:05:45--  https://www.dropbox.com/s/dl/p5q7gzupa2ndw55/sigmoid_regression_data.csv\n",
            "Reusing existing connection to www.dropbox.com:443.\n",
            "HTTP request sent, awaiting response... 302 Found\n",
            "Location: https://uc0d72abd126ab2650b2703a2dc2.dl.dropboxusercontent.com/cd/0/get/A2bcwAkwH0460bFaUrPlXhMvGf4nIgZqTsXVzvDYHJ4vmnbUBhA6Yc9tr7vcVSg3rkgVZLc9RCsfwoRULdED3S39kOY3bLLDkgRbommdAbAuvEZtb5zFw2nzn0rZKT_dY94/file?dl=1# [following]\n",
            "--2020-04-23 13:05:45--  https://uc0d72abd126ab2650b2703a2dc2.dl.dropboxusercontent.com/cd/0/get/A2bcwAkwH0460bFaUrPlXhMvGf4nIgZqTsXVzvDYHJ4vmnbUBhA6Yc9tr7vcVSg3rkgVZLc9RCsfwoRULdED3S39kOY3bLLDkgRbommdAbAuvEZtb5zFw2nzn0rZKT_dY94/file?dl=1\n",
            "Resolving uc0d72abd126ab2650b2703a2dc2.dl.dropboxusercontent.com (uc0d72abd126ab2650b2703a2dc2.dl.dropboxusercontent.com)... 162.125.9.6, 2620:100:601f:6::a27d:906\n",
            "Connecting to uc0d72abd126ab2650b2703a2dc2.dl.dropboxusercontent.com (uc0d72abd126ab2650b2703a2dc2.dl.dropboxusercontent.com)|162.125.9.6|:443... connected.\n",
            "HTTP request sent, awaiting response... 200 OK\n",
            "Length: 1124 (1.1K) [application/binary]\n",
            "Saving to: ‘data/sigmoid_regression_data.csv’\n",
            "\n",
            "data/sigmoid_regres 100%[===================>]   1.10K  --.-KB/s    in 0s      \n",
            "\n",
            "2020-04-23 13:05:46 (161 MB/s) - ‘data/sigmoid_regression_data.csv’ saved [1124/1124]\n",
            "\n"
          ],
          "name": "stdout"
        }
      ]
    },
    {
      "cell_type": "markdown",
      "metadata": {
        "tags": [
          "en"
        ],
        "id": "6qi6CohoI__v",
        "colab_type": "text"
      },
      "source": [
        "# Optimization-based Machine Learning\n",
        "\n",
        "As our next example we will introduce a very simple application of optimization in the context of machine learning. Our goal will be to carry out regression: we will get input and output data and we will be trying to identify the function, which produces such a relationship.\n",
        "\n",
        "This kind of task is easily transformed to an optimization problem. We will assume that we have a parametric function $f_\\theta(\\mathbf{x})$, the character of which is determined by a parameter vector $\\theta$. Our goal will be to find parameters that will minimize the error of model $f_\\theta(\\mathbf{x})$ on out dataset.\n",
        "\n",
        "Let our dataset be composed of samples $(\\mathbf{x_i}, \\mathbf{y_i})$, where $\\mathbf{x_i}$ is the input and $\\mathbf{y}_i$ is the desired output for sample $i$. We can then formalize our goal as the following optimization problem:\n",
        "\n",
        "\\begin{equation}\n",
        "\\theta^* = \\underset{\\theta}{\\arg\\max} \\sum_{(\\mathbf{x}_i, \\mathbf{y}_i)} \\mathcal{L}(f_\\theta(\\mathbf{x}_i), \\mathbf{y}_i)\n",
        "\\end{equation}\n",
        "i.e. we want to find a parameter vector $\\theta^*$, which would minimize the difference between the actual and the desired outputs over the entire dataset in terms of some loss function: e.g. the **squared error**.\n",
        "\n",
        "## The Dataset\n",
        "\n",
        "We will start the definition of our regression problem by loading the dataset – our data will be from a noisy sigmoid curve and it will be read from a CSV file. Given that we have loaded and preprocessed the same data before, we will not repeat the exercise here. The necessary code is in the following cell and it is hidden for the sake of brevity."
      ]
    },
    {
      "cell_type": "code",
      "metadata": {
        "id": "jtfwd60yI__w",
        "colab_type": "code",
        "colab": {
          "base_uri": "https://localhost:8080/",
          "height": 279
        },
        "outputId": "38e0afab-b9e6-4ee7-9abe-83f45fd85606"
      },
      "source": [
        "#@title -- Data Loading and Preprocessing; X_train, Y_train, X_test, Y_test -- { display-mode: \"form\" }\n",
        "df = pd.read_csv(\"data/sigmoid_regression_data.csv\")\n",
        "\n",
        "# we create a discretized version of the y column\n",
        "# to allow for stratification\n",
        "kbins = KBinsDiscretizer(6, encode='ordinal')\n",
        "y_stratify = kbins.fit_transform(df[['y']])\n",
        "\n",
        "# we split the dataset into train and test\n",
        "df_train, df_test = train_test_split(df, stratify=y_stratify,\n",
        "                                 test_size=0.3, random_state=4)\n",
        "\n",
        "# we specify the inputs and the outputs\n",
        "categorical_inputs = []\n",
        "numeric_inputs = ['x']\n",
        "output = 'y'\n",
        "\n",
        "# we create the pipeline\n",
        "input_preproc = make_column_transformer(\n",
        "    (make_pipeline(\n",
        "        SimpleImputer(strategy=\"most_frequent\"),\n",
        "        OrdinalEncoder()),\n",
        "     categorical_inputs),\n",
        "    \n",
        "    (make_pipeline(\n",
        "        SimpleImputer(),\n",
        "        StandardScaler()),\n",
        "     numeric_inputs)\n",
        ")\n",
        "\n",
        "# we fit and apply the pipeline on the train set\n",
        "X_train = input_preproc.fit_transform(df_train[categorical_inputs+numeric_inputs]).reshape(-1)\n",
        "Y_train = df_train[output].values\n",
        "\n",
        "# we apply the same pipeline to the test set,\n",
        "# taking care to use transform and not fit_transform\n",
        "X_test = input_preproc.transform(df_test[categorical_inputs+numeric_inputs]).reshape(-1)\n",
        "Y_test = df_test[output].values\n",
        "\n",
        "# we plot the data for visual inspection\n",
        "plt.scatter(X_train, Y_train, marker='x', label=\"training data\")\n",
        "plt.scatter(X_test, Y_test, c='r', label=\"testing data\")\n",
        "plt.xlabel('x')\n",
        "plt.ylabel('y')\n",
        "plt.grid(ls='--')\n",
        "plt.legend()\n",
        "plt.savefig(\"output/regression_data.pdf\", bbox_inches='tight', ppad_inches=0)"
      ],
      "execution_count": 4,
      "outputs": [
        {
          "output_type": "display_data",
          "data": {
            "image/png": "[encoded data removed]",
            "text/plain": [
              "<Figure size 432x288 with 1 Axes>"
            ]
          },
          "metadata": {
            "tags": [],
            "needs_background": "light"
          }
        }
      ]
    },
    {
      "cell_type": "markdown",
      "metadata": {
        "tags": [
          "en"
        ],
        "id": "LNa52d5gI__9",
        "colab_type": "text"
      },
      "source": [
        "---\n",
        "\n",
        "## Task 1: Defining the Regression Function\n",
        "\n",
        "The shape of the relationship that we have just visualized is conspicuously similar to the sigmoid (logistic) curve, which is defined as follows:\n",
        "\\begin{equation}\n",
        "\\sigma(x) = \\frac{1}{1 + e^{-x}}.\n",
        "\\end{equation}\n",
        "However, it seems that the curve is shifted by a bit in the direction of the $x$ axis and its steepness may also not be the same. We will therefore form our regression model by piping the input to the sigmoid function through a linear transform, the parameters $a$ and $c$ of which we will learn from data. Our entire regression model will then look as follows:\n",
        "\\begin{align}\n",
        "u &= ax + c \\\\\n",
        "\\sigma(u) &= \\frac{1}{1 + e^{-u}}.\n",
        "\\end{align}\n",
        "\n",
        "Or folded into a single function:\n",
        "\\begin{equation}\n",
        "\\mathrm{f}(x, a, c) = \\frac{1}{1 + e^{-ax - c}}\n",
        "\\end{equation}\n",
        "\n",
        "**Use the ``sympy`` package to symbolically define our regression model as function $f(x, a, c)$.**\n",
        "\n",
        "---"
      ]
    },
    {
      "cell_type": "code",
      "metadata": {
        "tags": [
          "student"
        ],
        "id": "UumCpK7wJAAA",
        "colab_type": "code",
        "colab": {
          "base_uri": "https://localhost:8080/",
          "height": 35
        },
        "outputId": "f615b0ee-370f-48a6-97b3-d2cbec645c44"
      },
      "source": [
        "symx, syma, symc = sp.symbols('x a c')\n",
        "\n",
        "symf = 1/(1+sp.exp(-syma*symx-symc))\n",
        "\n",
        "f = lambdify([symx, syma, symc], symf, \"numpy\")\n",
        "\n",
        "symf"
      ],
      "execution_count": 9,
      "outputs": [
        {
          "output_type": "execute_result",
          "data": {
            "text/plain": [
              "1/(exp(-a*x - c) + 1)"
            ]
          },
          "metadata": {
            "tags": []
          },
          "execution_count": 9
        }
      ]
    },
    {
      "cell_type": "markdown",
      "metadata": {
        "tags": [
          "en"
        ],
        "id": "z0HM4u9GJAAO",
        "colab_type": "text"
      },
      "source": [
        "We will check function ``f(x, a, c)`` by visualizing it:"
      ]
    },
    {
      "cell_type": "code",
      "metadata": {
        "id": "W4Ukn3uaJAAQ",
        "colab_type": "code",
        "colab": {
          "base_uri": "https://localhost:8080/",
          "height": 279
        },
        "outputId": "b9b9bc12-93ea-4b98-ba0b-3aad152419c8"
      },
      "source": [
        "#@title -- Regression Function Visualization -- { display-mode: \"form\" }\n",
        "xx = np.linspace(-5, 5, 100)\n",
        "a = 1; c = 0\n",
        "yy = [f(x, a, c) for x in xx]\n",
        "\n",
        "plt.plot(xx, yy)\n",
        "plt.xlabel('x')\n",
        "plt.ylabel('y')\n",
        "plt.grid(ls='--')\n",
        "\n",
        "plt.savefig(\"output/sigmoid.pdf\", bbox_inches=\"tight\", pad_inches=0)"
      ],
      "execution_count": 10,
      "outputs": [
        {
          "output_type": "display_data",
          "data": {
            "image/png": "[encoded data removed]",
            "text/plain": [
              "<Figure size 432x288 with 1 Axes>"
            ]
          },
          "metadata": {
            "tags": [],
            "needs_background": "light"
          }
        }
      ]
    },
    {
      "cell_type": "markdown",
      "metadata": {
        "tags": [
          "en"
        ],
        "id": "Pv6VRmmgJAAc",
        "colab_type": "text"
      },
      "source": [
        "## Our Objective Function and Its Gradient\n",
        "\n",
        "As already stated, our goal is to minimize the error on our dataset, i.e.\n",
        "\n",
        "\\begin{equation}\n",
        "\\theta^* = \\underset{\\theta}{\\arg\\max} \\sum_{(\\mathbf{x}_i, \\mathbf{y}_i)} \\mathcal{L}(f_\\theta(\\mathbf{x}_i), \\mathbf{y}_i)\n",
        "\\end{equation}\n",
        "\n",
        "The outer sum can be ignored when computing the gradient. The following holds because of the linearity of differentiation:\n",
        "\n",
        "\\begin{equation}\n",
        "\\nabla \\sum_{(\\mathbf{x}_i, \\mathbf{y}_i)} \\mathcal{L}(f_\\theta(\\mathbf{x}_i), \\mathbf{y}_i) = \\sum_{(\\mathbf{x}_i, \\mathbf{y}_i)} \\nabla \\mathcal{L}(f_\\theta(\\mathbf{x}_i), \\mathbf{y}_i)\n",
        "\\end{equation}\n",
        "and it therefore suffices to solve the inner part of the sum and then sum up the gradients for all the individual samples from the dataset.\n",
        "\n",
        "If we use the squared error as our loss function, we will obtain:\n",
        "\n",
        "\\begin{equation}\n",
        "\\mathcal{L}(f_\\theta(\\mathbf{x}_i), \\mathbf{y}_i) = \\left(\n",
        "    f_\\theta(\\mathbf{x}_i) - \\mathbf{y}_i\n",
        "\\right)^2.\n",
        "\\end{equation}\n",
        "\n",
        "Let us now define this function symbolically and determine its gradient (only w.r.t. parameters $a$ and $c$ because we are only going to be tuning those):"
      ]
    },
    {
      "cell_type": "code",
      "metadata": {
        "id": "Nm419eK7JAAe",
        "colab_type": "code",
        "colab": {}
      },
      "source": [
        "symy = sp.symbols('y')\n",
        "symL = (symf - symy)**2"
      ],
      "execution_count": 0,
      "outputs": []
    },
    {
      "cell_type": "code",
      "metadata": {
        "id": "Ye31bZt9JAAp",
        "colab_type": "code",
        "colab": {
          "base_uri": "https://localhost:8080/",
          "height": 35
        },
        "outputId": "ddf363a7-f033-4cad-e882-434386991b86"
      },
      "source": [
        "L = lambdify((symx, symy, syma, symc), symL, \"numpy\")\n",
        "\n",
        "sym_grad_L = sp.Matrix([symL]).jacobian([syma, symc])\n",
        "grad_L_func = lambdify((symx, symy, syma, symc), sym_grad_L, \"numpy\")\n",
        "\n",
        "sym_grad_L"
      ],
      "execution_count": 12,
      "outputs": [
        {
          "output_type": "execute_result",
          "data": {
            "text/plain": [
              "Matrix([[2*x*(-y + 1/(exp(-a*x - c) + 1))*exp(-a*x - c)/(exp(-a*x - c) + 1)**2, 2*(-y + 1/(exp(-a*x - c) + 1))*exp(-a*x - c)/(exp(-a*x - c) + 1)**2]])"
            ]
          },
          "metadata": {
            "tags": []
          },
          "execution_count": 12
        }
      ]
    },
    {
      "cell_type": "markdown",
      "metadata": {
        "tags": [
          "en"
        ],
        "id": "vS_U2DjWJAAz",
        "colab_type": "text"
      },
      "source": [
        "Having made such definitions we will substitute all the necessary arguments ($x$, $y$, $a$, $c$) into ``grad_L``, but the function will only return a 2-element vector containing the partial derivatives w.r.t. $a$ and $c$. E.g.:"
      ]
    },
    {
      "cell_type": "code",
      "metadata": {
        "id": "mTQEbv-NJAA1",
        "colab_type": "code",
        "colab": {
          "base_uri": "https://localhost:8080/",
          "height": 53
        },
        "outputId": "9769421c-fc27-486e-bc5d-fa17cbde7130"
      },
      "source": [
        "x = 0; y = 1; a = 1; c = 0\n",
        "print(\"L:\\t\\t{}\".format(L(x, y, a, c)))\n",
        "print(\"grad_L:\\t\\t{}\".format(grad_L_func(x, y, a, c)))"
      ],
      "execution_count": 13,
      "outputs": [
        {
          "output_type": "stream",
          "text": [
            "L:\t\t0.25\n",
            "grad_L:\t\t[[-0.   -0.25]]\n"
          ],
          "name": "stdout"
        }
      ]
    },
    {
      "cell_type": "markdown",
      "metadata": {
        "tags": [
          "en"
        ],
        "id": "dyq-nQdXJABA",
        "colab_type": "text"
      },
      "source": [
        "## The Total Loss and Its Gradient\n",
        "\n",
        "As we already know we will obtain the total loss as the sum of the losses over the individual samples and the same goes for the total gradient, which will be the sum of the gradients over the individual samples. Let us therefore define two functions, which will allow us to compute both of these:"
      ]
    },
    {
      "cell_type": "code",
      "metadata": {
        "id": "Y0GvHOOdJABC",
        "colab_type": "code",
        "colab": {}
      },
      "source": [
        "def sumL(a, c, X, Y):\n",
        "    L_sum = 0\n",
        "    \n",
        "    for x, y in zip(X, Y):\n",
        "        L_sum += L(x, y, a, c)\n",
        "        \n",
        "    return L_sum"
      ],
      "execution_count": 0,
      "outputs": []
    },
    {
      "cell_type": "code",
      "metadata": {
        "id": "QAc-IPZvJABH",
        "colab_type": "code",
        "colab": {}
      },
      "source": [
        "def grad_sumL(a, c, X, Y):\n",
        "    grad_sum = np.zeros(2)\n",
        "    \n",
        "    for x, y in zip(X, Y):\n",
        "        grad_sum = grad_sum + grad_L_func(x, y, a, c)\n",
        "        \n",
        "    return grad_sum"
      ],
      "execution_count": 0,
      "outputs": []
    },
    {
      "cell_type": "markdown",
      "metadata": {
        "tags": [
          "en"
        ],
        "id": "1ctQG6IIJABO",
        "colab_type": "text"
      },
      "source": [
        "To make sure that everything works we can test our functions now:"
      ]
    },
    {
      "cell_type": "code",
      "metadata": {
        "id": "YvBdJhB5JABP",
        "colab_type": "code",
        "colab": {
          "base_uri": "https://localhost:8080/",
          "height": 53
        },
        "outputId": "2b2119d1-24ec-4a51-9637-a2b44af32f5d"
      },
      "source": [
        "print(sumL(a, c, X_train, Y_train))\n",
        "print(grad_sumL(a, c, X_train, Y_train))"
      ],
      "execution_count": 16,
      "outputs": [
        {
          "output_type": "stream",
          "text": [
            "1.2417730427762137\n",
            "[[-1.2288481  -0.42606021]]\n"
          ],
          "name": "stdout"
        }
      ]
    },
    {
      "cell_type": "markdown",
      "metadata": {
        "tags": [
          "en"
        ],
        "id": "Udd32fF5JABT",
        "colab_type": "text"
      },
      "source": [
        "## Minimizing the Objective Function\n",
        "\n",
        "As our next step we only need to apply function ``minimize`` to minimize the total loss and to visualize the resulting regression curve. The minimization can be applied as follows:"
      ]
    },
    {
      "cell_type": "code",
      "metadata": {
        "id": "-EI8-C0oJABU",
        "colab_type": "code",
        "colab": {}
      },
      "source": [
        "res = minimize(fun=lambda xx: sumL(*xx, X_train, Y_train),\n",
        "               x0=np.random.uniform(0, 1, 2),\n",
        "               method='L-BFGS-B',\n",
        "               jac=lambda xx: grad_sumL(*xx, X_train, Y_train)\n",
        "              )\n",
        "\n",
        "a, c = res.x"
      ],
      "execution_count": 0,
      "outputs": []
    },
    {
      "cell_type": "markdown",
      "metadata": {
        "tags": [
          "en"
        ],
        "id": "vEXNGvGbJABY",
        "colab_type": "text"
      },
      "source": [
        "## Testing Our Regression Model\n",
        "\n",
        "We will get the outputs of our regression model on the training data and compute the performance indicators."
      ]
    },
    {
      "cell_type": "code",
      "metadata": {
        "id": "drkP3n_AJABZ",
        "colab_type": "code",
        "colab": {}
      },
      "source": [
        "y_test = [f(x, a, c) for x in X_test]"
      ],
      "execution_count": 0,
      "outputs": []
    },
    {
      "cell_type": "code",
      "metadata": {
        "id": "7wYV4SuOJABd",
        "colab_type": "code",
        "colab": {
          "base_uri": "https://localhost:8080/",
          "height": 53
        },
        "outputId": "b1158237-780c-48c7-cace-aeef14b5fb30"
      },
      "source": [
        "mse = mean_squared_error(Y_test, y_test)\n",
        "mae = mean_absolute_error(Y_test, y_test)\n",
        "\n",
        "print(\"MSE: {}\".format(mse))\n",
        "print(\"MAE: {}\".format(mae))"
      ],
      "execution_count": 19,
      "outputs": [
        {
          "output_type": "stream",
          "text": [
            "MSE: 1.045919271018508e-05\n",
            "MAE: 0.0026462822625139006\n"
          ],
          "name": "stdout"
        }
      ]
    },
    {
      "cell_type": "markdown",
      "metadata": {
        "tags": [
          "en"
        ],
        "id": "u3_boQCxJABh",
        "colab_type": "text"
      },
      "source": [
        "To get a fuller idea we can also plot the histogram of outputs and errors just as we did in one of our earlier notebooks:"
      ]
    },
    {
      "cell_type": "code",
      "metadata": {
        "id": "6jDtyjW9JABi",
        "colab_type": "code",
        "colab": {
          "base_uri": "https://localhost:8080/",
          "height": 388
        },
        "outputId": "8e429df9-4e4b-4da5-f322-d026b1355143"
      },
      "source": [
        "#@title -- Histogram of Outputs and Errors -- { display-mode: \"form\" }\n",
        "plt.figure(figsize=(8, 6))\n",
        "error_histogram(Y_test, y_test, Y_fit_scaling=Y_train)\n",
        "plt.savefig(\"output/error_output_histogram.pdf\", bbox_inches='tight', ppad_inches=0)"
      ],
      "execution_count": 20,
      "outputs": [
        {
          "output_type": "display_data",
          "data": {
            "image/png": "[encoded data removed]",
            "text/plain": [
              "<Figure size 576x432 with 2 Axes>"
            ]
          },
          "metadata": {
            "tags": [],
            "needs_background": "light"
          }
        }
      ]
    },
    {
      "cell_type": "markdown",
      "metadata": {
        "tags": [
          "en"
        ],
        "id": "9nDY11JBJABl",
        "colab_type": "text"
      },
      "source": [
        "Given that our data is 2-dimensional, it will be even more useful to visualize the original data and our resulting regression curve. This will give us a strong intuition as to whether the regression curve behaves as it should:"
      ]
    },
    {
      "cell_type": "code",
      "metadata": {
        "id": "b7wvFwirJABm",
        "colab_type": "code",
        "colab": {
          "base_uri": "https://localhost:8080/",
          "height": 279
        },
        "outputId": "337e8fb1-5473-4259-e6bd-0af9754de9b0"
      },
      "source": [
        "#@title -- Regression Curve vs. Data -- { display-mode: \"form\" }\n",
        "x_min = min(np.min(X_train), np.min(X_test))\n",
        "x_max = max(np.max(X_train), np.max(X_test))\n",
        "\n",
        "xx = np.linspace(x_min, x_max, 250).reshape((-1, 1))\n",
        "yy = [f(x, a, c) for x in xx]\n",
        "\n",
        "plt.scatter(X_train, Y_train, marker='x', label=\"training data\")\n",
        "plt.scatter(X_test, Y_test, c='r', label=\"testing data\")\n",
        "\n",
        "plt.plot(xx, yy, label=\"regression curve\", c='k')\n",
        "\n",
        "plt.xlabel('x')\n",
        "plt.ylabel('y')\n",
        "plt.grid(ls='--')\n",
        "plt.legend()\n",
        "\n",
        "plt.savefig(\"output/regression.pdf\", bbox_inches=\"tight\", pad_inches=0)"
      ],
      "execution_count": 21,
      "outputs": [
        {
          "output_type": "display_data",
          "data": {
            "image/png": "[encoded data removed]",
            "text/plain": [
              "<Figure size 432x288 with 1 Axes>"
            ]
          },
          "metadata": {
            "tags": [],
            "needs_background": "light"
          }
        }
      ]
    },
    {
      "cell_type": "markdown",
      "metadata": {
        "tags": [
          "en"
        ],
        "id": "zsVbBeOxJABp",
        "colab_type": "text"
      },
      "source": [
        "## An Easier Implementation of Regression Using ``curve_fit``\n",
        "\n",
        "There are, of course, other and simpler tools for performing regression. We can mention ``scipy.optimize.curve_fit`` as a good example of one such general function. When applying it we only need to enter the regression function in the prescribed form (and optionally also its gradient) and we do not need to consider things such as the iteration of the dataset etc.\n",
        "\n",
        "Using ``scipy.optimize.curve_fit`` we could simplify our example as follows:"
      ]
    },
    {
      "cell_type": "code",
      "metadata": {
        "id": "DJN0yeGIJABq",
        "colab_type": "code",
        "colab": {}
      },
      "source": [
        "def sigmoid(x, a, c):\n",
        "    return 1 / (1 + np.exp(-a*x - c))"
      ],
      "execution_count": 0,
      "outputs": []
    },
    {
      "cell_type": "code",
      "metadata": {
        "id": "2JsirFATJABv",
        "colab_type": "code",
        "colab": {}
      },
      "source": [
        "popt, _ = curve_fit(sigmoid, X_train.reshape(-1), Y_train.reshape(-1))"
      ],
      "execution_count": 0,
      "outputs": []
    },
    {
      "cell_type": "markdown",
      "metadata": {
        "tags": [
          "en"
        ],
        "id": "q-Kk7tlhJABy",
        "colab_type": "text"
      },
      "source": [
        "### Evaluation on the Test Set"
      ]
    },
    {
      "cell_type": "code",
      "metadata": {
        "id": "f4egHbC5JABz",
        "colab_type": "code",
        "colab": {}
      },
      "source": [
        "y_test = sigmoid(X_test, *popt)"
      ],
      "execution_count": 0,
      "outputs": []
    },
    {
      "cell_type": "code",
      "metadata": {
        "id": "ifKyLfX5JAB3",
        "colab_type": "code",
        "colab": {
          "base_uri": "https://localhost:8080/",
          "height": 53
        },
        "outputId": "25a57803-6a7f-40b3-d95d-aec60031d09f"
      },
      "source": [
        "mse = mean_squared_error(Y_test, y_test)\n",
        "mae = mean_absolute_error(Y_test, y_test)\n",
        "\n",
        "print(\"MSE: {}\".format(mse))\n",
        "print(\"MAE: {}\".format(mae))"
      ],
      "execution_count": 25,
      "outputs": [
        {
          "output_type": "stream",
          "text": [
            "MSE: 1.0458158668184867e-05\n",
            "MAE: 0.002646063119858569\n"
          ],
          "name": "stdout"
        }
      ]
    },
    {
      "cell_type": "code",
      "metadata": {
        "id": "0ZAzOzO0JAB7",
        "colab_type": "code",
        "colab": {
          "base_uri": "https://localhost:8080/",
          "height": 279
        },
        "outputId": "2b81ad81-c4e8-4a2b-b5f3-dd3b2341fed9"
      },
      "source": [
        "#@title -- Regression Curve vs. Data -- { display-mode: \"form\" }\n",
        "x_min = min(np.min(X_train), np.min(X_test))\n",
        "x_max = max(np.max(X_train), np.max(X_test))\n",
        "\n",
        "xx = np.linspace(x_min, x_max, 250).reshape((-1, 1))\n",
        "yy = sigmoid(xx, *popt)\n",
        "\n",
        "plt.scatter(X_train, Y_train, marker='x', label=\"training data\")\n",
        "plt.scatter(X_test, Y_test, c='r', label=\"testing data\")\n",
        "\n",
        "plt.plot(xx, yy, label=\"regression curve\")\n",
        "\n",
        "plt.xlabel('x')\n",
        "plt.ylabel('y')\n",
        "plt.grid(ls='--')\n",
        "plt.legend()\n",
        "\n",
        "plt.savefig(\"output/regression2.pdf\", bbox_inches=\"tight\", pad_inches=0)"
      ],
      "execution_count": 26,
      "outputs": [
        {
          "output_type": "display_data",
          "data": {
            "image/png": "[encoded data removed]",
            "text/plain": [
              "<Figure size 432x288 with 1 Axes>"
            ]
          },
          "metadata": {
            "tags": [],
            "needs_background": "light"
          }
        }
      ]
    },
    {
      "cell_type": "code",
      "metadata": {
        "id": "bOsIIwCXJAB-",
        "colab_type": "code",
        "colab": {}
      },
      "source": [
        ""
      ],
      "execution_count": 0,
      "outputs": []
    }
  ]
}