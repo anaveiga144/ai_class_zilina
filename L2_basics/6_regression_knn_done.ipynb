{
  "nbformat": 4,
  "nbformat_minor": 0,
  "metadata": {
    "celltoolbar": "Tags",
    "kernelspec": {
      "display_name": "Python 3",
      "language": "python",
      "name": "python3"
    },
    "language_info": {
      "codemirror_mode": {
        "name": "ipython",
        "version": 3
      },
      "file_extension": ".py",
      "mimetype": "text/x-python",
      "name": "python",
      "nbconvert_exporter": "python",
      "pygments_lexer": "ipython3",
      "version": "3.7.5"
    },
    "colab": {
      "name": "6_regression_knn.ipynb",
      "provenance": [],
      "collapsed_sections": []
    }
  },
  "cells": [
    {
      "cell_type": "markdown",
      "metadata": {
        "tags": [
          "en"
        ],
        "id": "ia6HOgoqr2jY",
        "colab_type": "text"
      },
      "source": [
        "**NOTE: This notebook is written for the Google Colab platform. However it can also be run (possibly with minor modifications) as a standard Jupyter notebook.**"
      ]
    },
    {
      "cell_type": "code",
      "metadata": {
        "id": "fLAyOsS8r2ja",
        "colab_type": "code",
        "colab": {
          "base_uri": "https://localhost:8080/",
          "height": 1000
        },
        "outputId": "37ac6d59-18c2-428e-c51f-a9cf97cae3ca"
      },
      "source": [
        "#@title -- Installation of Packages -- { display-mode: \"form\" }\n",
        "import sys\n",
        "!{sys.executable} -m pip install git+https://github.com/michalgregor/class_utils.git"
      ],
      "execution_count": 1,
      "outputs": [
        {
          "output_type": "stream",
          "text": [
            "Collecting git+https://github.com/michalgregor/class_utils.git\n",
            "  Cloning https://github.com/michalgregor/class_utils.git to /tmp/pip-req-build-eg2ttpqc\n",
            "  Running command git clone -q https://github.com/michalgregor/class_utils.git /tmp/pip-req-build-eg2ttpqc\n",
            "Requirement already satisfied: numpy in /usr/local/lib/python3.6/dist-packages (from class-utils==0.1) (1.18.2)\n",
            "Requirement already satisfied: pandas in /usr/local/lib/python3.6/dist-packages (from class-utils==0.1) (1.0.3)\n",
            "Requirement already satisfied: matplotlib in /usr/local/lib/python3.6/dist-packages (from class-utils==0.1) (3.2.1)\n",
            "Requirement already satisfied: ipython in /usr/local/lib/python3.6/dist-packages (from class-utils==0.1) (5.5.0)\n",
            "Requirement already satisfied: seaborn in /usr/local/lib/python3.6/dist-packages (from class-utils==0.1) (0.10.0)\n",
            "Requirement already satisfied: scikit-learn in /usr/local/lib/python3.6/dist-packages (from class-utils==0.1) (0.22.2.post1)\n",
            "Requirement already satisfied: scipy in /usr/local/lib/python3.6/dist-packages (from class-utils==0.1) (1.4.1)\n",
            "Collecting lime\n",
            "\u001b[?25l  Downloading https://files.pythonhosted.org/packages/27/ee/4aaac4cd79f16329746495aca96f8c35f278b5c774eff3358eaa21e1cbf3/lime-0.2.0.0.tar.gz (274kB)\n",
            "\u001b[K     |████████████████████████████████| 276kB 3.4MB/s \n",
            "\u001b[?25hCollecting eli5\n",
            "\u001b[?25l  Downloading https://files.pythonhosted.org/packages/97/2f/c85c7d8f8548e460829971785347e14e45fa5c6617da374711dec8cb38cc/eli5-0.10.1-py2.py3-none-any.whl (105kB)\n",
            "\u001b[K     |████████████████████████████████| 112kB 49.2MB/s \n",
            "\u001b[?25hCollecting pdpbox\n",
            "\u001b[?25l  Downloading https://files.pythonhosted.org/packages/87/23/ac7da5ba1c6c03a87c412e7e7b6e91a10d6ecf4474906c3e736f93940d49/PDPbox-0.2.0.tar.gz (57.7MB)\n",
            "\u001b[K     |████████████████████████████████| 57.7MB 67kB/s \n",
            "\u001b[?25hRequirement already satisfied: graphviz in /usr/local/lib/python3.6/dist-packages (from class-utils==0.1) (0.10.1)\n",
            "Requirement already satisfied: pytz>=2017.2 in /usr/local/lib/python3.6/dist-packages (from pandas->class-utils==0.1) (2018.9)\n",
            "Requirement already satisfied: python-dateutil>=2.6.1 in /usr/local/lib/python3.6/dist-packages (from pandas->class-utils==0.1) (2.8.1)\n",
            "Requirement already satisfied: cycler>=0.10 in /usr/local/lib/python3.6/dist-packages (from matplotlib->class-utils==0.1) (0.10.0)\n",
            "Requirement already satisfied: kiwisolver>=1.0.1 in /usr/local/lib/python3.6/dist-packages (from matplotlib->class-utils==0.1) (1.2.0)\n",
            "Requirement already satisfied: pyparsing!=2.0.4,!=2.1.2,!=2.1.6,>=2.0.1 in /usr/local/lib/python3.6/dist-packages (from matplotlib->class-utils==0.1) (2.4.7)\n",
            "Requirement already satisfied: decorator in /usr/local/lib/python3.6/dist-packages (from ipython->class-utils==0.1) (4.4.2)\n",
            "Requirement already satisfied: simplegeneric>0.8 in /usr/local/lib/python3.6/dist-packages (from ipython->class-utils==0.1) (0.8.1)\n",
            "Requirement already satisfied: pexpect; sys_platform != \"win32\" in /usr/local/lib/python3.6/dist-packages (from ipython->class-utils==0.1) (4.8.0)\n",
            "Requirement already satisfied: prompt-toolkit<2.0.0,>=1.0.4 in /usr/local/lib/python3.6/dist-packages (from ipython->class-utils==0.1) (1.0.18)\n",
            "Requirement already satisfied: pickleshare in /usr/local/lib/python3.6/dist-packages (from ipython->class-utils==0.1) (0.7.5)\n",
            "Requirement already satisfied: setuptools>=18.5 in /usr/local/lib/python3.6/dist-packages (from ipython->class-utils==0.1) (46.1.3)\n",
            "Requirement already satisfied: pygments in /usr/local/lib/python3.6/dist-packages (from ipython->class-utils==0.1) (2.1.3)\n",
            "Requirement already satisfied: traitlets>=4.2 in /usr/local/lib/python3.6/dist-packages (from ipython->class-utils==0.1) (4.3.3)\n",
            "Requirement already satisfied: joblib>=0.11 in /usr/local/lib/python3.6/dist-packages (from scikit-learn->class-utils==0.1) (0.14.1)\n",
            "Requirement already satisfied: tqdm in /usr/local/lib/python3.6/dist-packages (from lime->class-utils==0.1) (4.38.0)\n",
            "Collecting pillow==5.4.1\n",
            "\u001b[?25l  Downloading https://files.pythonhosted.org/packages/85/5e/e91792f198bbc5a0d7d3055ad552bc4062942d27eaf75c3e2783cf64eae5/Pillow-5.4.1-cp36-cp36m-manylinux1_x86_64.whl (2.0MB)\n",
            "\u001b[K     |████████████████████████████████| 2.0MB 32.3MB/s \n",
            "\u001b[?25hRequirement already satisfied: scikit-image>=0.12 in /usr/local/lib/python3.6/dist-packages (from lime->class-utils==0.1) (0.16.2)\n",
            "Requirement already satisfied: six in /usr/local/lib/python3.6/dist-packages (from eli5->class-utils==0.1) (1.12.0)\n",
            "Requirement already satisfied: tabulate>=0.7.7 in /usr/local/lib/python3.6/dist-packages (from eli5->class-utils==0.1) (0.8.7)\n",
            "Requirement already satisfied: attrs>16.0.0 in /usr/local/lib/python3.6/dist-packages (from eli5->class-utils==0.1) (19.3.0)\n",
            "Requirement already satisfied: jinja2 in /usr/local/lib/python3.6/dist-packages (from eli5->class-utils==0.1) (2.11.2)\n",
            "Requirement already satisfied: psutil in /usr/local/lib/python3.6/dist-packages (from pdpbox->class-utils==0.1) (5.4.8)\n",
            "Requirement already satisfied: ptyprocess>=0.5 in /usr/local/lib/python3.6/dist-packages (from pexpect; sys_platform != \"win32\"->ipython->class-utils==0.1) (0.6.0)\n",
            "Requirement already satisfied: wcwidth in /usr/local/lib/python3.6/dist-packages (from prompt-toolkit<2.0.0,>=1.0.4->ipython->class-utils==0.1) (0.1.9)\n",
            "Requirement already satisfied: ipython-genutils in /usr/local/lib/python3.6/dist-packages (from traitlets>=4.2->ipython->class-utils==0.1) (0.2.0)\n",
            "Requirement already satisfied: imageio>=2.3.0 in /usr/local/lib/python3.6/dist-packages (from scikit-image>=0.12->lime->class-utils==0.1) (2.4.1)\n",
            "Requirement already satisfied: networkx>=2.0 in /usr/local/lib/python3.6/dist-packages (from scikit-image>=0.12->lime->class-utils==0.1) (2.4)\n",
            "Requirement already satisfied: PyWavelets>=0.4.0 in /usr/local/lib/python3.6/dist-packages (from scikit-image>=0.12->lime->class-utils==0.1) (1.1.1)\n",
            "Requirement already satisfied: MarkupSafe>=0.23 in /usr/local/lib/python3.6/dist-packages (from jinja2->eli5->class-utils==0.1) (1.1.1)\n",
            "Building wheels for collected packages: class-utils, lime, pdpbox\n",
            "  Building wheel for class-utils (setup.py) ... \u001b[?25l\u001b[?25hdone\n",
            "  Created wheel for class-utils: filename=class_utils-0.1-cp36-none-any.whl size=6463 sha256=e322fc7f115683e9573877ddcf9ff95a7c4a214c3e643e65721dcaddbad465e4\n",
            "  Stored in directory: /tmp/pip-ephem-wheel-cache-vhi_9yb3/wheels/0c/d3/63/b380d96ed74ced47fcdb67bfb9aee184bfdc970b956a65096d\n",
            "  Building wheel for lime (setup.py) ... \u001b[?25l\u001b[?25hdone\n",
            "  Created wheel for lime: filename=lime-0.2.0.0-cp36-none-any.whl size=284181 sha256=15923641297f19c3eaec57afd9f05f3ff32c62bb5231ddb624270cb1ab86a041\n",
            "  Stored in directory: /root/.cache/pip/wheels/22/f2/ec/e5ebd07348b2b1ac722e91c2f549fcc220f7d5f25497a61232\n",
            "  Building wheel for pdpbox (setup.py) ... \u001b[?25l\u001b[?25hdone\n",
            "  Created wheel for pdpbox: filename=PDPbox-0.2.0-cp36-none-any.whl size=57690722 sha256=57821bfb12f7bcf288836e00eed27bbae2de81cdfaed502962e6c667dcf3c21e\n",
            "  Stored in directory: /root/.cache/pip/wheels/7d/08/51/63fd122b04a2c87d780464eeffb94867c75bd96a64d500a3fe\n",
            "Successfully built class-utils lime pdpbox\n",
            "\u001b[31mERROR: albumentations 0.1.12 has requirement imgaug<0.2.7,>=0.2.5, but you'll have imgaug 0.2.9 which is incompatible.\u001b[0m\n",
            "Installing collected packages: pillow, lime, eli5, pdpbox, class-utils\n",
            "  Found existing installation: Pillow 7.0.0\n",
            "    Uninstalling Pillow-7.0.0:\n",
            "      Successfully uninstalled Pillow-7.0.0\n",
            "Successfully installed class-utils-0.1 eli5-0.10.1 lime-0.2.0.0 pdpbox-0.2.0 pillow-5.4.1\n"
          ],
          "name": "stdout"
        }
      ]
    },
    {
      "cell_type": "code",
      "metadata": {
        "id": "35eVUoK1r2jj",
        "colab_type": "code",
        "colab": {
          "base_uri": "https://localhost:8080/",
          "height": 92
        },
        "outputId": "1c0b243a-481e-49ec-b243-c51d06876c2f"
      },
      "source": [
        "#@title -- Import of Necessary Packages -- { display-mode: \"form\" }\n",
        "import pandas as pd\n",
        "import numpy as np\n",
        "from sklearn.model_selection import train_test_split\n",
        "from sklearn.impute import SimpleImputer\n",
        "from sklearn.preprocessing import StandardScaler, OrdinalEncoder, KBinsDiscretizer\n",
        "from sklearn.compose import make_column_transformer\n",
        "from sklearn.pipeline import make_pipeline\n",
        "from sklearn.neighbors import KNeighborsRegressor\n",
        "from sklearn.metrics import mean_squared_error, mean_absolute_error\n",
        "from class_utils import error_histogram\n",
        "import matplotlib.pyplot as plt"
      ],
      "execution_count": 2,
      "outputs": [
        {
          "output_type": "stream",
          "text": [
            "/usr/local/lib/python3.6/dist-packages/statsmodels/tools/_testing.py:19: FutureWarning: pandas.util.testing is deprecated. Use the functions in the public API at pandas.testing instead.\n",
            "  import pandas.util.testing as tm\n",
            "Using TensorFlow backend.\n"
          ],
          "name": "stderr"
        }
      ]
    },
    {
      "cell_type": "code",
      "metadata": {
        "id": "H4zzhdPCr2jt",
        "colab_type": "code",
        "colab": {
          "base_uri": "https://localhost:8080/",
          "height": 400
        },
        "outputId": "4b31e3db-bc59-4f4e-ed25-d8fe95c6841c"
      },
      "source": [
        "#@title -- Downloading Data -- { display-mode: \"form\" }\n",
        "!mkdir -p output\n",
        "!mkdir -p data\n",
        "!wget -nc -O data/sigmoid_regression_data.csv https://www.dropbox.com/s/p5q7gzupa2ndw55/sigmoid_regression_data.csv?dl=1"
      ],
      "execution_count": 3,
      "outputs": [
        {
          "output_type": "stream",
          "text": [
            "--2020-04-20 13:04:39--  https://www.dropbox.com/s/p5q7gzupa2ndw55/sigmoid_regression_data.csv?dl=1\n",
            "Resolving www.dropbox.com (www.dropbox.com)... 162.125.8.1, 2620:100:601b:1::a27d:801\n",
            "Connecting to www.dropbox.com (www.dropbox.com)|162.125.8.1|:443... connected.\n",
            "HTTP request sent, awaiting response... 301 Moved Permanently\n",
            "Location: /s/dl/p5q7gzupa2ndw55/sigmoid_regression_data.csv [following]\n",
            "--2020-04-20 13:04:39--  https://www.dropbox.com/s/dl/p5q7gzupa2ndw55/sigmoid_regression_data.csv\n",
            "Reusing existing connection to www.dropbox.com:443.\n",
            "HTTP request sent, awaiting response... 302 Found\n",
            "Location: https://ucd3a4c08bde4cfb38c96f61a484.dl.dropboxusercontent.com/cd/0/get/A2MmEbS959IQUPIed3XS0L1ubfxxhAW3Gtgqd10guuiULOEjtkWbwiOuTbQW3YDHlxkhnaudQkdMzt2-eYtJiY9nojwrAiQT4_UxwdRTq3QD3qKILujOEtJugb9Mv9Gb79E/file?dl=1# [following]\n",
            "--2020-04-20 13:04:39--  https://ucd3a4c08bde4cfb38c96f61a484.dl.dropboxusercontent.com/cd/0/get/A2MmEbS959IQUPIed3XS0L1ubfxxhAW3Gtgqd10guuiULOEjtkWbwiOuTbQW3YDHlxkhnaudQkdMzt2-eYtJiY9nojwrAiQT4_UxwdRTq3QD3qKILujOEtJugb9Mv9Gb79E/file?dl=1\n",
            "Resolving ucd3a4c08bde4cfb38c96f61a484.dl.dropboxusercontent.com (ucd3a4c08bde4cfb38c96f61a484.dl.dropboxusercontent.com)... 162.125.8.6, 2620:100:601b:6::a27d:806\n",
            "Connecting to ucd3a4c08bde4cfb38c96f61a484.dl.dropboxusercontent.com (ucd3a4c08bde4cfb38c96f61a484.dl.dropboxusercontent.com)|162.125.8.6|:443... connected.\n",
            "HTTP request sent, awaiting response... 200 OK\n",
            "Length: 1124 (1.1K) [application/binary]\n",
            "Saving to: ‘data/sigmoid_regression_data.csv’\n",
            "\n",
            "data/sigmoid_regres 100%[===================>]   1.10K  --.-KB/s    in 0s      \n",
            "\n",
            "2020-04-20 13:04:40 (141 MB/s) - ‘data/sigmoid_regression_data.csv’ saved [1124/1124]\n",
            "\n"
          ],
          "name": "stdout"
        }
      ]
    },
    {
      "cell_type": "markdown",
      "metadata": {
        "tags": [
          "en"
        ],
        "id": "imKpd752r2j0",
        "colab_type": "text"
      },
      "source": [
        "# Regression and Corresponding Data Preprocessing\n",
        "\n",
        "As our next example we will show how to solve a simple regression task. As our regression method (just as in the case of classification) we will use the $k$ nearest neighbours method (KNN). For classification the prediction was determined by voting among the $k$ nearest neighbours. In the case of regression the prediction is formed by computing the average of the $k$ nearest neighbours' values. \n",
        "\n",
        "## Loading the Dataset\n",
        "\n",
        "Our example will begin as usual: by loading a dataset from a CSV file: in this case the file will only have two columns. The first column, $x$, will represent the input of our model and the second, $y$, will represent the desired output."
      ]
    },
    {
      "cell_type": "code",
      "metadata": {
        "id": "GsZ33xc5r2j1",
        "colab_type": "code",
        "colab": {
          "base_uri": "https://localhost:8080/",
          "height": 206
        },
        "outputId": "2e8db8e7-02bc-4104-e1a2-fd1fa33ee07c"
      },
      "source": [
        "df = pd.read_csv(\"data/sigmoid_regression_data.csv\")\n",
        "df.head()"
      ],
      "execution_count": 4,
      "outputs": [
        {
          "output_type": "execute_result",
          "data": {
            "text/html": [
              "<div>\n",
              "<style scoped>\n",
              "    .dataframe tbody tr th:only-of-type {\n",
              "        vertical-align: middle;\n",
              "    }\n",
              "\n",
              "    .dataframe tbody tr th {\n",
              "        vertical-align: top;\n",
              "    }\n",
              "\n",
              "    .dataframe thead th {\n",
              "        text-align: right;\n",
              "    }\n",
              "</style>\n",
              "<table border=\"1\" class=\"dataframe\">\n",
              "  <thead>\n",
              "    <tr style=\"text-align: right;\">\n",
              "      <th></th>\n",
              "      <th>x</th>\n",
              "      <th>y</th>\n",
              "    </tr>\n",
              "  </thead>\n",
              "  <tbody>\n",
              "    <tr>\n",
              "      <th>0</th>\n",
              "      <td>-20.000000</td>\n",
              "      <td>0.004982</td>\n",
              "    </tr>\n",
              "    <tr>\n",
              "      <th>1</th>\n",
              "      <td>-14.911349</td>\n",
              "      <td>0.003562</td>\n",
              "    </tr>\n",
              "    <tr>\n",
              "      <th>2</th>\n",
              "      <td>-14.527971</td>\n",
              "      <td>0.000296</td>\n",
              "    </tr>\n",
              "    <tr>\n",
              "      <th>3</th>\n",
              "      <td>-7.840879</td>\n",
              "      <td>-0.001815</td>\n",
              "    </tr>\n",
              "    <tr>\n",
              "      <th>4</th>\n",
              "      <td>-4.745229</td>\n",
              "      <td>0.000037</td>\n",
              "    </tr>\n",
              "  </tbody>\n",
              "</table>\n",
              "</div>"
            ],
            "text/plain": [
              "           x         y\n",
              "0 -20.000000  0.004982\n",
              "1 -14.911349  0.003562\n",
              "2 -14.527971  0.000296\n",
              "3  -7.840879 -0.001815\n",
              "4  -4.745229  0.000037"
            ]
          },
          "metadata": {
            "tags": []
          },
          "execution_count": 4
        }
      ]
    },
    {
      "cell_type": "markdown",
      "metadata": {
        "tags": [
          "en"
        ],
        "id": "fLH9WSZTr2j9",
        "colab_type": "text"
      },
      "source": [
        "## Stratification When Splitting the Dataset\n",
        "\n",
        "The next step, of course, is to split the dataset into the train and the test set. Let us recall that we used stratification by the label when splitting the dataset for a classification task. This was to ensure that the ratio of the classes in the training and the testing set will remain close to that in the original dataset.\n",
        "\n",
        "Obviously in the case of regression we cannot do the same thing – or at least not quite as easily as for classification. This is because the desired outputs are now continuous. In some cases, however, it may still be desirable to apply some kind of stratification – especially if the dataset is small, as it is in our case. There is otherwise a risk that the training and the testing set will not be representative.\n",
        "\n",
        "To show how such problem might manifest itself is very easy: all we need to do is to split our dataset in the normal way without using stratification and to visualize the training and the testing set in the same plot:"
      ]
    },
    {
      "cell_type": "code",
      "metadata": {
        "id": "gIaa2kqrr2j-",
        "colab_type": "code",
        "colab": {}
      },
      "source": [
        "df_train, df_test = train_test_split(df, test_size=0.3, random_state=4)"
      ],
      "execution_count": 0,
      "outputs": []
    },
    {
      "cell_type": "code",
      "metadata": {
        "id": "LWsrTLvfr2kE",
        "colab_type": "code",
        "colab": {
          "base_uri": "https://localhost:8080/",
          "height": 279
        },
        "outputId": "35f55439-69ec-4e9b-f087-8a9a486cce7d"
      },
      "source": [
        "plt.scatter(df_train['x'], df_train['y'], marker='x', label=\"tréningové dáta\")\n",
        "plt.scatter(df_test['x'], df_test['y'], c='r', label=\"testovacie dáta\")\n",
        "plt.xlabel('x')\n",
        "plt.ylabel('y')\n",
        "plt.grid(ls='--')\n",
        "plt.legend()\n",
        "plt.savefig(\"output/regression_split_plain.pdf\", bbox_inches='tight', ppad_inches=0)"
      ],
      "execution_count": 6,
      "outputs": [
        {
          "output_type": "display_data",
          "data": {
            "image/png": "[encoded data removed]",
            "text/plain": [
              "<Figure size 432x288 with 1 Axes>"
            ]
          },
          "metadata": {
            "tags": [],
            "needs_background": "light"
          }
        }
      ]
    },
    {
      "cell_type": "markdown",
      "metadata": {
        "tags": [
          "en"
        ],
        "id": "V29bhQ8vr2kL",
        "colab_type": "text"
      },
      "source": [
        "What we should be able to see in the plot is that the testing data does not even begin to cover the entire space. So how do we apply stratification to prevent this problem? Given that the column by which we stratify should be discrete, the simplest solution is, of course, to discretize our continuous column – e.g. using the ``KBinsDiscretizer`` transformer from ``scikit-learn``. The discretization itself might look as follows:"
      ]
    },
    {
      "cell_type": "code",
      "metadata": {
        "id": "NOa8wLdDr2kM",
        "colab_type": "code",
        "colab": {}
      },
      "source": [
        "kbins = KBinsDiscretizer(6, encode='ordinal')\n",
        "y_stratify = kbins.fit_transform(df[['y']])"
      ],
      "execution_count": 0,
      "outputs": []
    },
    {
      "cell_type": "markdown",
      "metadata": {
        "tags": [
          "en"
        ],
        "id": "F03pMa_Rr2kQ",
        "colab_type": "text"
      },
      "source": [
        "The discretized column ``y_stratify`` can now be used for stratification:"
      ]
    },
    {
      "cell_type": "code",
      "metadata": {
        "id": "oXjnJegLr2kR",
        "colab_type": "code",
        "colab": {}
      },
      "source": [
        "df_train, df_test = train_test_split(df, stratify=y_stratify,\n",
        "                                 test_size=0.3, random_state=4)"
      ],
      "execution_count": 0,
      "outputs": []
    },
    {
      "cell_type": "markdown",
      "metadata": {
        "tags": [
          "en"
        ],
        "id": "Had2NNG7r2kV",
        "colab_type": "text"
      },
      "source": [
        "When we visualize the results of such splitting, we should be able to observe that the samples have been split into the training and the testing set much more uniformly:"
      ]
    },
    {
      "cell_type": "code",
      "metadata": {
        "id": "l4O0RRjvr2kW",
        "colab_type": "code",
        "colab": {
          "base_uri": "https://localhost:8080/",
          "height": 279
        },
        "outputId": "460e6ece-79ae-4a6f-dd3b-47f67754fa31"
      },
      "source": [
        "plt.scatter(df_train['x'], df_train['y'], marker='x', label=\"training data\")\n",
        "plt.scatter(df_test['x'], df_test['y'], c='r', label=\"testing data\")\n",
        "plt.xlabel('x')\n",
        "plt.ylabel('y')\n",
        "plt.grid(ls='--')\n",
        "plt.legend()\n",
        "plt.savefig(\"output/regression_split_stratif.pdf\", bbox_inches='tight', ppad_inches=0)"
      ],
      "execution_count": 9,
      "outputs": [
        {
          "output_type": "display_data",
          "data": {
            "image/png": "[encoded data removed]",
            "text/plain": [
              "<Figure size 432x288 with 1 Axes>"
            ]
          },
          "metadata": {
            "tags": [],
            "needs_background": "light"
          }
        }
      ]
    },
    {
      "cell_type": "markdown",
      "metadata": {
        "tags": [
          "en"
        ],
        "id": "LZi60scpr2kb",
        "colab_type": "text"
      },
      "source": [
        "---\n",
        "\n",
        "## Task 1: Constructing the Pipeline\n",
        "\n",
        "**The next step is, as usual, to construct the preprocessing pipeline. As the first step, determine which input columns are categorical and which are numeric and then create the same pipeline object that we have been using the previous examples.**\n",
        "\n",
        "NOTE: It will not be necessary to preprocess the output column in our case.\n",
        "\n",
        "---"
      ]
    },
    {
      "cell_type": "code",
      "metadata": {
        "tags": [
          "student"
        ],
        "id": "AN92nYtOr2kc",
        "colab_type": "code",
        "colab": {}
      },
      "source": [
        "categorical_inputs = [ ]  # ----\n",
        "\n",
        "numeric_inputs = ['x']  # ----\n",
        "\n",
        "output = 'y'"
      ],
      "execution_count": 0,
      "outputs": []
    },
    {
      "cell_type": "code",
      "metadata": {
        "tags": [
          "student"
        ],
        "id": "yix9q-Rsr2kg",
        "colab_type": "code",
        "colab": {}
      },
      "source": [
        "input_preproc = make_column_transformer(\n",
        "    (make_pipeline(\n",
        "        SimpleImputer(strategy=\"most_frequent\"),\n",
        "        OrdinalEncoder()),\n",
        "     categorical_inputs),\n",
        "    \n",
        "    (make_pipeline(\n",
        "        SimpleImputer(),\n",
        "        StandardScaler()),\n",
        "     numeric_inputs)\n",
        ")\n",
        "    "
      ],
      "execution_count": 0,
      "outputs": []
    },
    {
      "cell_type": "markdown",
      "metadata": {
        "tags": [
          "en"
        ],
        "id": "ctdQ7erjr2kl",
        "colab_type": "text"
      },
      "source": [
        "## Data Preprocessing\n",
        "\n",
        "The data will be preprocessed in the usual way:"
      ]
    },
    {
      "cell_type": "code",
      "metadata": {
        "id": "Sb6hb_L0r2km",
        "colab_type": "code",
        "colab": {}
      },
      "source": [
        "X_train = input_preproc.fit_transform(df_train[categorical_inputs+numeric_inputs])\n",
        "Y_train = df_train[output].values\n",
        "\n",
        "X_test = input_preproc.transform(df_test[categorical_inputs+numeric_inputs])\n",
        "Y_test = df_test[output].values"
      ],
      "execution_count": 0,
      "outputs": []
    },
    {
      "cell_type": "markdown",
      "metadata": {
        "tags": [
          "en"
        ],
        "id": "WutDBHGRr2kr",
        "colab_type": "text"
      },
      "source": [
        "## Training the Model\n",
        "\n",
        "Our model will be trained using the unified interface – we will only need to change its type. We will be using a ``KNeighborsRegressor`` instead of a ``KNeighborsClassifier``."
      ]
    },
    {
      "cell_type": "code",
      "metadata": {
        "id": "jzPgbrNir2ks",
        "colab_type": "code",
        "colab": {
          "base_uri": "https://localhost:8080/",
          "height": 72
        },
        "outputId": "b0066145-a9d4-4074-9ba7-91283b4bcbc3"
      },
      "source": [
        "model = KNeighborsRegressor(n_neighbors=5)\n",
        "model.fit(X_train, Y_train)"
      ],
      "execution_count": 13,
      "outputs": [
        {
          "output_type": "execute_result",
          "data": {
            "text/plain": [
              "KNeighborsRegressor(algorithm='auto', leaf_size=30, metric='minkowski',\n",
              "                    metric_params=None, n_jobs=None, n_neighbors=5, p=2,\n",
              "                    weights='uniform')"
            ]
          },
          "metadata": {
            "tags": []
          },
          "execution_count": 13
        }
      ]
    },
    {
      "cell_type": "markdown",
      "metadata": {
        "tags": [
          "en"
        ],
        "id": "SEOzUvfYr2kw",
        "colab_type": "text"
      },
      "source": [
        "## Testing the Model\n",
        "\n",
        "Finally the behaviour of our model will be evaluated on the testing data. For regression we will naturally not use accuracy as a performance metric – regression has its own indicators. Among the most frequently used ones are the **mean squared error** (MSE):\n",
        "\\begin{equation}\n",
        "MSE = \\frac{1}{N} \\sum_{i=1}^{N} (y_i - \\hat{y}_i)^2.\n",
        "\\end{equation}\n",
        "where $y_i$ is the desired output and $\\hat{y}_i$ is the actual output of our model for sample $i$ from the dataset and $N$ is the total number of samples in the dataset.\n",
        "\n",
        "and the **mean absolute error** (MAE):\n",
        "\\begin{equation}\n",
        "MAE = \\frac{1}{N} \\sum_{i=1}^{N} |y_i - \\hat{y}_i|.\n",
        "\\end{equation}\n",
        "\n",
        "Mean squared error is more sensitive to large errors (due to the square). The advantage of mean absolute error is that it from the same scale as the data and it is therefore easier to interpret (even though it is alway possible to take the square root of the mean squared error as well). There is, of course, a number of other indicators (e.g. percentage errors, the coefficient of determination, etc.), but we will not be considering these in the present notebook.\n",
        "\n",
        "Let us then use our regression model and compute predictions for the testing set."
      ]
    },
    {
      "cell_type": "code",
      "metadata": {
        "id": "VbJH--apr2kx",
        "colab_type": "code",
        "colab": {}
      },
      "source": [
        "y_test = model.predict(X_test)"
      ],
      "execution_count": 0,
      "outputs": []
    },
    {
      "cell_type": "markdown",
      "metadata": {
        "tags": [
          "en"
        ],
        "id": "19g7FWrRr2k1",
        "colab_type": "text"
      },
      "source": [
        "We will compute and display the mean square and absolute error. Let us recall that the range of the outputs is approximately 0 to 1."
      ]
    },
    {
      "cell_type": "code",
      "metadata": {
        "id": "1P6zF3f0r2k3",
        "colab_type": "code",
        "colab": {
          "base_uri": "https://localhost:8080/",
          "height": 53
        },
        "outputId": "88fcf308-ba07-4a0d-e3f3-9fcd42fedc15"
      },
      "source": [
        "mse = mean_squared_error(Y_test, y_test)\n",
        "mae = mean_absolute_error(Y_test, y_test)\n",
        "\n",
        "print(\"MSE: {}\".format(mse))\n",
        "print(\"MAE: {}\".format(mae))"
      ],
      "execution_count": 15,
      "outputs": [
        {
          "output_type": "stream",
          "text": [
            "MSE: 0.004582050028058121\n",
            "MAE: 0.0476584966199359\n"
          ],
          "name": "stdout"
        }
      ]
    },
    {
      "cell_type": "markdown",
      "metadata": {
        "tags": [
          "en"
        ],
        "id": "pFwqUH4Zr2k6",
        "colab_type": "text"
      },
      "source": [
        "To get a fuller idea of how the errors are distributed we can also visualize the entire distribution using the output and error histogram. We will standardize the outputs for the purposes of this plot to get the histograms of the outputs and the error to align. We will also use scaled data to compute the mean absolute error to ensure that it is on the same scale."
      ]
    },
    {
      "cell_type": "code",
      "metadata": {
        "id": "0g0vDpMwr2k7",
        "colab_type": "code",
        "colab": {
          "base_uri": "https://localhost:8080/",
          "height": 388
        },
        "outputId": "9964d6b3-519c-4ca0-c820-8ae48006a141"
      },
      "source": [
        "plt.figure(figsize=(8, 6))\n",
        "error_histogram(Y_test, y_test, Y_fit_scaling=Y_train)\n",
        "plt.savefig(\"output/error_output_histogram.pdf\", bbox_inches='tight', ppad_inches=0)"
      ],
      "execution_count": 16,
      "outputs": [
        {
          "output_type": "display_data",
          "data": {
            "image/png": "[encoded data removed]",
            "text/plain": [
              "<Figure size 576x432 with 2 Axes>"
            ]
          },
          "metadata": {
            "tags": [],
            "needs_background": "light"
          }
        }
      ]
    },
    {
      "cell_type": "markdown",
      "metadata": {
        "tags": [
          "en"
        ],
        "id": "D7xl1D25r2k-",
        "colab_type": "text"
      },
      "source": [
        "## Visualizing the Regression Relationship\n",
        "\n",
        "Given that our regression relationship is 2-dimensional, we can easily visualize it in a 2D plot and evaluate it visually as well."
      ]
    },
    {
      "cell_type": "code",
      "metadata": {
        "id": "X7LgVL4fr2k_",
        "colab_type": "code",
        "colab": {
          "base_uri": "https://localhost:8080/",
          "height": 279
        },
        "outputId": "5ec660f3-e504-43b2-ae21-35cb32a34d75"
      },
      "source": [
        "x_min = min(np.min(X_train), np.min(X_test))\n",
        "x_max = max(np.max(X_train), np.max(X_test))\n",
        "\n",
        "xx = np.linspace(x_min, x_max, 250).reshape((-1, 1))\n",
        "yy = model.predict(xx)\n",
        "\n",
        "plt.scatter(X_train, Y_train, marker='x', label=\"training data\")\n",
        "plt.scatter(X_test, Y_test, c='r', label=\"testing data\")\n",
        "\n",
        "plt.plot(xx, yy, label=\"regression curve\")\n",
        "\n",
        "plt.xlabel('x')\n",
        "plt.ylabel('y')\n",
        "plt.grid(ls='--')\n",
        "plt.legend()\n",
        "\n",
        "plt.savefig(\"output/knn_regression.pdf\", bbox_inches=\"tight\", pad_inches=0)"
      ],
      "execution_count": 17,
      "outputs": [
        {
          "output_type": "display_data",
          "data": {
            "image/png": "[encoded data removed]",
            "text/plain": [
              "<Figure size 432x288 with 1 Axes>"
            ]
          },
          "metadata": {
            "tags": [],
            "needs_background": "light"
          }
        }
      ]
    },
    {
      "cell_type": "markdown",
      "metadata": {
        "tags": [
          "en"
        ],
        "id": "nnJ3iW8or2lD",
        "colab_type": "text"
      },
      "source": [
        "One thing that we should notice in the plot is that the regression relationship is not smooth. This is, of course, because there are areas, where all the points share the same nearest neighbours and the output is therefore insensitive to the input unless it leaves the area. In later notebooks we will explore other kinds of models, which will be able to achieve better results."
      ]
    },
    {
      "cell_type": "code",
      "metadata": {
        "id": "VcF7f41Ir2lE",
        "colab_type": "code",
        "colab": {}
      },
      "source": [
        ""
      ],
      "execution_count": 0,
      "outputs": []
    }
  ]
}