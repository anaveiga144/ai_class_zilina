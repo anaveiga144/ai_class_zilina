{
 "cells": [
  {
   "cell_type": "markdown",
   "metadata": {
    "tags": [
     "en"
    ]
   },
   "source": [
    "**NOTE: This notebook is written for the Google Colab platform. However it can also be run (possibly with minor modifications) as a standard Jupyter notebook.**"
   ]
  },
  {
   "cell_type": "code",
   "execution_count": null,
   "metadata": {},
   "outputs": [],
   "source": [
    "#@title -- Import of Necessary Packages -- { display-mode: \"form\" }\n",
    "from IPython.display import Image, display\n",
    "from deap import creator, base, tools, algorithms, gp\n",
    "import matplotlib.pyplot as plt\n",
    "import math, random, operator\n",
    "import numpy as np\n",
    "import pydot"
   ]
  },
  {
   "cell_type": "code",
   "execution_count": null,
   "metadata": {},
   "outputs": [],
   "source": [
    "#@title -- Auxiliary Functions -- { display-mode: \"form\" }\n",
    "!mkdir -p output\n",
    "\n",
    "def plot_syntax_tree(gp, ind, show=True):\n",
    "    nodes, edges, labels = gp.graph(ind)\n",
    "    graph = pydot.graph_from_edges(edges)\n",
    "\n",
    "    for node in nodes:\n",
    "        graph.add_node(pydot.Node(node, label=labels[node]))\n",
    "\n",
    "    if show:\n",
    "        img = Image(graph.create_png())\n",
    "        display(img)\n",
    "\n",
    "    return graph"
   ]
  },
  {
   "cell_type": "markdown",
   "metadata": {
    "tags": [
     "en"
    ]
   },
   "source": [
    "# Example: Symbolic Regression Using Genetic Programming\n",
    "\n",
    "Let us now apply the principles discussed in the previous notebook to another dataset. We will start by providing the data:"
   ]
  },
  {
   "cell_type": "code",
   "execution_count": null,
   "metadata": {},
   "outputs": [],
   "source": [
    "data = np.array([\n",
    "[0.0, 1.0],\n",
    "[0.5, 1.4931771388673793],\n",
    "[1.0, 1.9276534171979032],\n",
    "[1.5, 2.1824341048795457],\n",
    "[2.0, 2.055579835457676],\n",
    "[2.5, 1.2877294178633996],\n",
    "[3.0, -0.3575364988725189],\n",
    "[3.5, -2.95507478805141],\n",
    "[4.0, -6.245699714504593],\n",
    "[4.5, -9.485343327921688],\n",
    "[5.0, -11.398426999392417],\n",
    "[5.5, -10.327837818056654],\n",
    "[6.0, -4.652040019335036],\n",
    "[6.5, 6.524605241495308],\n",
    "[7.0, 22.51031040172003],\n",
    "[7.5, 40.231409246330685],\n",
    "[8.0, 53.8716299518633],\n",
    "[8.5, 55.37625638130115],\n",
    "[9.0, 36.18659353549469],\n",
    "[9.5, -9.6834606461911],\n",
    "])\n",
    "\n",
    "X = data[:, 0]\n",
    "Y = data[:, 1]"
   ]
  },
  {
   "cell_type": "markdown",
   "metadata": {
    "tags": [
     "en"
    ]
   },
   "source": [
    "We visualize the data:"
   ]
  },
  {
   "cell_type": "code",
   "execution_count": null,
   "metadata": {},
   "outputs": [],
   "source": [
    "plt.figure()\n",
    "plt.scatter(X, Y)\n",
    "plt.grid(ls='--')\n",
    "plt.xlabel(\"x\")\n",
    "plt.ylabel(\"y\")"
   ]
  },
  {
   "cell_type": "markdown",
   "metadata": {
    "tags": [
     "en"
    ]
   },
   "source": [
    "Our fitness function will again look at the mean squared error:"
   ]
  },
  {
   "cell_type": "code",
   "execution_count": null,
   "metadata": {
    "tags": [
     "en"
    ]
   },
   "outputs": [],
   "source": [
    "def evaluateGP(individual, X, Y):\n",
    "    func = toolbox.compile(expr=individual)\n",
    "    sqerrors = [(func(x) - y)**2 for x, y in zip(X, Y)]\n",
    "    return math.fsum(sqerrors) / len(X), # the fitness can be multidimensional;\n",
    "                                         # we return it as an tuple, hence the comma"
   ]
  },
  {
   "cell_type": "markdown",
   "metadata": {
    "tags": [
     "en"
    ]
   },
   "source": [
    "## Terminals and Non-Terminals\n",
    "\n",
    "We will next create a set of terminals and non-terminals that GP will be able to select from. We specify that our function will have a single argument and that it will be named 'x'. We also add some terminals and non-terminals."
   ]
  },
  {
   "cell_type": "code",
   "execution_count": null,
   "metadata": {},
   "outputs": [],
   "source": [
    "pset = gp.PrimitiveSet(\"main\", 1)\n",
    "pset.renameArguments(ARG0='x')\n",
    "\n",
    "try: del gp.randConstant\n",
    "except: None\n",
    "\n",
    "pset.addPrimitive(operator.add, 2)\n",
    "pset.addPrimitive(operator.sub, 2)\n",
    "pset.addPrimitive(operator.mul, 2)\n",
    "# integer constants\n",
    "pset.addEphemeralConstant(\"randConstant\", lambda: random.randint(-1, 1))\n",
    "# real-valued constants\n",
    "# pset.addEphemeralConstant(\"randConstant\", lambda: random.uniform(-1, 1))"
   ]
  },
  {
   "cell_type": "code",
   "execution_count": null,
   "metadata": {},
   "outputs": [],
   "source": []
  },
  {
   "cell_type": "markdown",
   "metadata": {
    "tags": [
     "en"
    ]
   },
   "source": [
    "---\n",
    "\n",
    "## Task 1: Add More Functions\n",
    "\n",
    "**Add more potentially useful functions as terminals/non-terminals. You may also need to tune the procedure, which generates the random constants.**\n",
    "\n",
    "Good candidates might include the sine, raising to the power of 2, 3 etc.\n",
    "\n",
    "---"
   ]
  },
  {
   "cell_type": "code",
   "execution_count": null,
   "metadata": {
    "tags": [
     "student"
    ]
   },
   "outputs": [],
   "source": [
    "\n",
    "\n",
    "\n",
    "# ----\n",
    "\n",
    "\n"
   ]
  },
  {
   "cell_type": "markdown",
   "metadata": {
    "tags": [
     "en"
    ]
   },
   "source": [
    "## Genetic Programming\n",
    "\n",
    "Next we will set everything up so that we can run genetic programming. Since we already did this in the previous example, the code of the following cell is hidden."
   ]
  },
  {
   "cell_type": "code",
   "execution_count": null,
   "metadata": {},
   "outputs": [],
   "source": [
    "#@title -- Setup for Genetic Programming -- { display-mode: \"form\" }\n",
    "creator.create(\"FitnessMin\", base.Fitness, weights=(-1.0,))\n",
    "creator.create(\"Individual\", gp.PrimitiveTree, fitness=creator.FitnessMin)\n",
    "\n",
    "toolbox = base.Toolbox()\n",
    "toolbox.register(\"expr\", gp.genHalfAndHalf, pset=pset, min_=1, max_=2)\n",
    "toolbox.register(\"individual\", tools.initIterate, creator.Individual, toolbox.expr)\n",
    "toolbox.register(\"population\", tools.initRepeat, list, toolbox.individual)\n",
    "toolbox.register(\"compile\", gp.compile, pset=pset)\n",
    "toolbox.register(\"evaluate\", evaluateGP, X=X, Y=Y)\n",
    "\n",
    "toolbox.register(\"mate\", gp.cxOnePoint)\n",
    "toolbox.register(\"expr_mut\", gp.genFull, min_=0, max_=2)\n",
    "toolbox.register(\"mutate\", gp.mutUniform, expr=toolbox.expr_mut, pset=pset)\n",
    "toolbox.register(\"select\", tools.selTournament, tournsize=3)\n",
    "\n",
    "stats_fit = tools.Statistics(lambda ind: ind.fitness.values)\n",
    "stats_size = tools.Statistics(len)\n",
    "mstats = tools.MultiStatistics(fitness=stats_fit, size=stats_size)\n",
    "mstats.register(\"avg\", np.mean)\n",
    "mstats.register(\"std\", np.std)\n",
    "mstats.register(\"min\", np.min)\n",
    "mstats.register(\"max\", np.max)\n",
    "\n",
    "hof = tools.HallOfFame(1)"
   ]
  },
  {
   "cell_type": "markdown",
   "metadata": {
    "tags": [
     "en"
    ]
   },
   "source": [
    "---\n",
    "\n",
    "## Task 2: Experiment with the Parameters\n",
    "\n",
    "**Try to experiment with the parameters in the cell below – especially with the population size and the number of generations. We have used the population size of 300 and the number of generations = 40. We might need more to get good results in our current example.**\n",
    "\n",
    "---"
   ]
  },
  {
   "cell_type": "code",
   "execution_count": null,
   "metadata": {
    "tags": [
     "student"
    ]
   },
   "outputs": [],
   "source": [
    "pop = toolbox.population(\n",
    "    n =     # ----                \n",
    ")\n",
    "\n",
    "final_pop = algorithms.eaSimple(pop, toolbox, cxpb=0.5,\n",
    "                                mutpb=0.1, ngen=40,\n",
    "                                stats=mstats, halloffame=hof)"
   ]
  },
  {
   "cell_type": "markdown",
   "metadata": {
    "tags": [
     "en"
    ]
   },
   "source": [
    "## Evaluating the Results\n",
    "\n",
    "We display the resulting individual and its fitness:"
   ]
  },
  {
   "cell_type": "code",
   "execution_count": null,
   "metadata": {},
   "outputs": [],
   "source": [
    "best_ind = hof[0]\n",
    "\n",
    "print(\"Individual: {}\\nfitness = {}\".format(\n",
    "    best_ind, best_ind.fitness.values[0]))"
   ]
  },
  {
   "cell_type": "markdown",
   "metadata": {
    "tags": [
     "en"
    ]
   },
   "source": [
    "Our syntax tree looks as follows:"
   ]
  },
  {
   "cell_type": "code",
   "execution_count": null,
   "metadata": {},
   "outputs": [],
   "source": [
    "plot_syntax_tree(gp, best_ind);"
   ]
  },
  {
   "cell_type": "markdown",
   "metadata": {
    "tags": [
     "en"
    ]
   },
   "source": [
    "### The Regression Curve\n",
    "\n",
    "Finally, we can also plot our original data and the resulting regression curve."
   ]
  },
  {
   "cell_type": "code",
   "execution_count": null,
   "metadata": {},
   "outputs": [],
   "source": [
    "func = toolbox.compile(expr=best_ind)\n",
    "\n",
    "plt.figure(figsize=(8, 6))\n",
    "plt.plot(X, Y, 'bx')\n",
    "plt.plot(X, [func(x) for x in X], 'r')\n",
    "plt.grid()\n",
    "plt.xlabel(\"x\")\n",
    "plt.ylabel(\"y\")\n",
    "\n",
    "plt.legend([\"regressor\", \"original data\"])"
   ]
  },
  {
   "cell_type": "code",
   "execution_count": null,
   "metadata": {},
   "outputs": [],
   "source": []
  }
 ],
 "metadata": {
  "celltoolbar": "Tags",
  "kernelspec": {
   "display_name": "Python 3",
   "language": "python",
   "name": "python3"
  },
  "language_info": {
   "codemirror_mode": {
    "name": "ipython",
    "version": 3
   },
   "file_extension": ".py",
   "mimetype": "text/x-python",
   "name": "python",
   "nbconvert_exporter": "python",
   "pygments_lexer": "ipython3",
   "version": "3.7.5"
  }
 },
 "nbformat": 4,
 "nbformat_minor": 2
}
