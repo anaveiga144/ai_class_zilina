{
 "cells": [
  {
   "cell_type": "markdown",
   "metadata": {
    "tags": [
     "en"
    ]
   },
   "source": [
    "**NOTE: This notebook is written for the Google Colab platform. However it can also be run (possibly with minor modifications) as a standard Jupyter notebook.**"
   ]
  },
  {
   "cell_type": "code",
   "execution_count": null,
   "metadata": {},
   "outputs": [],
   "source": [
    "#@title -- Installation of Packages -- { display-mode: \"form\" }\n",
    "import sys\n",
    "!{sys.executable} -m pip install deap"
   ]
  },
  {
   "cell_type": "code",
   "execution_count": null,
   "metadata": {},
   "outputs": [],
   "source": [
    "#@title -- Import of Necessary Packages -- { display-mode: \"form\" }\n",
    "from IPython.display import Image, display\n",
    "from deap import creator, base, tools, algorithms, gp\n",
    "import matplotlib.pyplot as plt\n",
    "import math, random, operator\n",
    "import numpy as np\n",
    "import pydot"
   ]
  },
  {
   "cell_type": "code",
   "execution_count": null,
   "metadata": {},
   "outputs": [],
   "source": [
    "#@title -- Auxiliary Functions -- { display-mode: \"form\" }\n",
    "!mkdir -p output\n",
    "\n",
    "def plot_syntax_tree(gp, ind, show=True):\n",
    "    nodes, edges, labels = gp.graph(ind)\n",
    "    graph = pydot.graph_from_edges(edges)\n",
    "\n",
    "    for node in nodes:\n",
    "        graph.add_node(pydot.Node(node, label=labels[node]))\n",
    "\n",
    "    if show:\n",
    "        img = Image(graph.create_png())\n",
    "        display(img)\n",
    "\n",
    "    return graph"
   ]
  },
  {
   "cell_type": "markdown",
   "metadata": {
    "tags": [
     "en"
    ]
   },
   "source": [
    "# Symbolic Regression Using Genetic Programming\n",
    "\n",
    "Our next example will illustrate how another method – genetic programming – can be used to perform symbolic regression. As the name suggests, symbolic regression is a type of regression, where the resulting regressor is an analytic expression (unlike a neural network, for an instance, where the regressor is implicit and not easily interpretable).\n",
    "\n",
    "## Generating a Synthetic Dataset\n",
    "\n",
    "We'll start by generating a synthetic dataset – we will take points from a polynomial and add Gaussian noise to them."
   ]
  },
  {
   "cell_type": "code",
   "execution_count": null,
   "metadata": {},
   "outputs": [],
   "source": [
    "X = np.arange(-1, 1, 0.1)\n",
    "Y = X**4 + X**3 + X**2 + X + np.random.normal(0, 0.05, size=X.shape)"
   ]
  },
  {
   "cell_type": "markdown",
   "metadata": {
    "tags": [
     "en"
    ]
   },
   "source": [
    "We'll visualize the resulting data:"
   ]
  },
  {
   "cell_type": "code",
   "execution_count": null,
   "metadata": {},
   "outputs": [],
   "source": [
    "plt.figure()\n",
    "plt.scatter(X, Y)\n",
    "plt.grid(ls='--')\n",
    "plt.xlabel(\"x\")\n",
    "plt.ylabel(\"y\")"
   ]
  },
  {
   "cell_type": "markdown",
   "metadata": {
    "tags": [
     "en"
    ]
   },
   "source": [
    "Our fitness function will now compute the mean squared error, which the genetic program makes on our samples:"
   ]
  },
  {
   "cell_type": "code",
   "execution_count": null,
   "metadata": {
    "tags": [
     "en"
    ]
   },
   "outputs": [],
   "source": [
    "def evaluateGP(individual, X, Y):\n",
    "    func = toolbox.compile(expr=individual)\n",
    "    sqerrors = [(func(x) - y)**2 for x, y in zip(X, Y)]\n",
    "    return math.fsum(sqerrors) / len(X), # the fitness can be multidimensional;\n",
    "                                         # we return it as an tuple, hence the comma"
   ]
  },
  {
   "cell_type": "markdown",
   "metadata": {
    "tags": [
     "en"
    ]
   },
   "source": [
    "## Terminals and Non-Terminals\n",
    "\n",
    "We will next create a set of terminals and non-terminals that GP will be able to select from. We also specify that our function will have a single argument."
   ]
  },
  {
   "cell_type": "code",
   "execution_count": null,
   "metadata": {},
   "outputs": [],
   "source": [
    "pset = gp.PrimitiveSet(\"main\", 1)"
   ]
  },
  {
   "cell_type": "markdown",
   "metadata": {
    "tags": [
     "en"
    ]
   },
   "source": [
    "Arguments can be named to make the results more readable – here we are naming the 0th argument 'x'."
   ]
  },
  {
   "cell_type": "code",
   "execution_count": null,
   "metadata": {},
   "outputs": [],
   "source": [
    "pset.renameArguments(ARG0='x')"
   ]
  },
  {
   "cell_type": "markdown",
   "metadata": {
    "tags": [
     "en"
    ]
   },
   "source": [
    "We can use arbitrary Python functions as terminals. The number specifies the arity of the function, i.e. how many arguments it has. We are adding an ephemeral constant from $\\{-1, 0, 1\\}$ as a terminal."
   ]
  },
  {
   "cell_type": "code",
   "execution_count": null,
   "metadata": {},
   "outputs": [],
   "source": [
    "# A workaround to avoid exceptions when running the code repeatedly.\n",
    "try: del gp.randConstant\n",
    "except: None\n",
    "\n",
    "pset.addPrimitive(operator.add, 2)\n",
    "pset.addPrimitive(operator.sub, 2)\n",
    "pset.addPrimitive(operator.mul, 2)\n",
    "# integer constants\n",
    "pset.addEphemeralConstant(\"randConstant\", lambda: random.randint(-1, 1))\n",
    "# real-valued constants\n",
    "# pset.addEphemeralConstant(\"randConstant\", lambda: random.uniform(-1, 1))"
   ]
  },
  {
   "cell_type": "code",
   "execution_count": null,
   "metadata": {},
   "outputs": [],
   "source": [
    "# Aby sme sa zbavili výnimky pri opakovanom spustení skriptu.\n",
    "try: del gp.randConstant\n",
    "except: None\n",
    "\n",
    "pset.addPrimitive(operator.add, 2)\n",
    "pset.addPrimitive(operator.sub, 2)\n",
    "pset.addPrimitive(operator.mul, 2)\n",
    "# celočíselné konštanty\n",
    "pset.addEphemeralConstant(\"randConstant\", lambda: random.randint(-1, 1))\n",
    "# reálnočíselné konštanty\n",
    "# pset.addEphemeralConstant(\"randConstant\", lambda: random.uniform(-1, 1))"
   ]
  },
  {
   "cell_type": "markdown",
   "metadata": {
    "tags": [
     "en"
    ]
   },
   "source": [
    "We can also add our own functions to the set:"
   ]
  },
  {
   "cell_type": "code",
   "execution_count": null,
   "metadata": {},
   "outputs": [],
   "source": [
    "def foo(x):\n",
    "    return x*2 + x\n",
    "\n",
    "pset.addPrimitive(foo, 1)"
   ]
  },
  {
   "cell_type": "markdown",
   "metadata": {
    "tags": [
     "en"
    ]
   },
   "source": [
    "## Setting Up the Parameters\n",
    "\n",
    "We specify that the goal is to minimize the objective function. Our individuals will be represented by syntax trees (GP)."
   ]
  },
  {
   "cell_type": "code",
   "execution_count": null,
   "metadata": {
    "tags": [
     "en"
    ]
   },
   "outputs": [],
   "source": [
    "# We register that fitness is to be minimized: hence the -1 weight.\n",
    "creator.create(\"FitnessMin\", base.Fitness, weights=(-1.0,))\n",
    "# We register the type of the individual; it is going to be based\n",
    "# on type gp.PrimitiveTree, i.e. a syntax tree. Its fitness\n",
    "# is to be minimized (we specify function FitnessMin, which\n",
    "# we have defined above).\n",
    "creator.create(\"Individual\", gp.PrimitiveTree, fitness=creator.FitnessMin)"
   ]
  },
  {
   "cell_type": "markdown",
   "metadata": {
    "tags": [
     "en"
    ]
   },
   "source": [
    "We define how our population is to be generated, evaluated, etc."
   ]
  },
  {
   "cell_type": "code",
   "execution_count": null,
   "metadata": {
    "tags": [
     "en"
    ]
   },
   "outputs": [],
   "source": [
    "# We create a toolbox of basic operators that GP will use.\n",
    "toolbox = base.Toolbox()\n",
    "# We register the tree-generating method.\n",
    "toolbox.register(\"expr\", gp.genHalfAndHalf, pset=pset, min_=1, max_=2)\n",
    "# We register the method that creates individuals.\n",
    "toolbox.register(\"individual\", tools.initIterate, creator.Individual, toolbox.expr)\n",
    "# We register the method that creates the population.\n",
    "toolbox.register(\"population\", tools.initRepeat, list, toolbox.individual)\n",
    "# We register the function that compiles the syntax tree.\n",
    "toolbox.register(\"compile\", gp.compile, pset=pset)\n",
    "# We use our evaluation function to evaluate fitness.\n",
    "toolbox.register(\"evaluate\", evaluateGP, X=X, Y=Y)"
   ]
  },
  {
   "cell_type": "markdown",
   "metadata": {
    "tags": [
     "en"
    ]
   },
   "source": [
    "We define the genetic operators and the selection method."
   ]
  },
  {
   "cell_type": "code",
   "execution_count": null,
   "metadata": {
    "tags": [
     "en"
    ]
   },
   "outputs": [],
   "source": [
    "# We choose one-point crossover for GP (subtree swap) as our crossover method.\n",
    "toolbox.register(\"mate\", gp.cxOnePoint)\n",
    "# When applying mutation, we will generate full trees.\n",
    "toolbox.register(\"expr_mut\", gp.genFull, min_=0, max_=2)\n",
    "# We register the mutation method (replacing random subtrees by newly generated ones).\n",
    "toolbox.register(\"mutate\", gp.mutUniform, expr=toolbox.expr_mut, pset=pset)\n",
    "# We use tournament selection with tournament size of 3 as our selection method.\n",
    "toolbox.register(\"select\", tools.selTournament, tournsize=3)"
   ]
  },
  {
   "cell_type": "markdown",
   "metadata": {
    "tags": [
     "en"
    ]
   },
   "source": [
    "We will display some statics while running the algorithm: the average, minimal and maximal fitness, etc. "
   ]
  },
  {
   "cell_type": "code",
   "execution_count": null,
   "metadata": {},
   "outputs": [],
   "source": [
    "stats_fit = tools.Statistics(lambda ind: ind.fitness.values)\n",
    "stats_size = tools.Statistics(len)\n",
    "mstats = tools.MultiStatistics(fitness=stats_fit, size=stats_size)\n",
    "mstats.register(\"avg\", np.mean)\n",
    "mstats.register(\"std\", np.std)\n",
    "mstats.register(\"min\", np.min)\n",
    "mstats.register(\"max\", np.max)"
   ]
  },
  {
   "cell_type": "markdown",
   "metadata": {
    "tags": [
     "en"
    ]
   },
   "source": [
    "We are going to create an archive that will hold the best individual."
   ]
  },
  {
   "cell_type": "code",
   "execution_count": null,
   "metadata": {},
   "outputs": [],
   "source": [
    "hof = tools.HallOfFame(1)"
   ]
  },
  {
   "cell_type": "markdown",
   "metadata": {
    "tags": [
     "en"
    ]
   },
   "source": [
    "## Running the Algorithm\n",
    "\n",
    "We will generate the initial population and then run the algorithm:"
   ]
  },
  {
   "cell_type": "code",
   "execution_count": null,
   "metadata": {},
   "outputs": [],
   "source": [
    "pop = toolbox.population(n=300)\n",
    "final_pop = algorithms.eaSimple(pop, toolbox, cxpb=0.5,\n",
    "                                mutpb=0.1, ngen=40,\n",
    "                                stats=mstats, halloffame=hof)"
   ]
  },
  {
   "cell_type": "markdown",
   "metadata": {
    "tags": [
     "en"
    ]
   },
   "source": [
    "## Evaluating the Results\n",
    "\n",
    "We display the resulting individual and its fitness:"
   ]
  },
  {
   "cell_type": "code",
   "execution_count": null,
   "metadata": {},
   "outputs": [],
   "source": [
    "best_ind = hof[0]\n",
    "\n",
    "print(\"Individual: {}\\nfitness = {}\".format(\n",
    "    best_ind, best_ind.fitness.values[0]))"
   ]
  },
  {
   "cell_type": "markdown",
   "metadata": {
    "tags": [
     "en"
    ]
   },
   "source": [
    "We can also visualize and inspect the syntax tree corresponding to our regressor."
   ]
  },
  {
   "cell_type": "code",
   "execution_count": null,
   "metadata": {},
   "outputs": [],
   "source": [
    "plot_syntax_tree(gp, best_ind);"
   ]
  },
  {
   "cell_type": "markdown",
   "metadata": {
    "tags": [
     "en"
    ]
   },
   "source": [
    "### The Regression Curve\n",
    "\n",
    "Finally, we can also plot our original data and the resulting regression curve."
   ]
  },
  {
   "cell_type": "code",
   "execution_count": null,
   "metadata": {},
   "outputs": [],
   "source": [
    "func = toolbox.compile(expr=best_ind)\n",
    "\n",
    "plt.figure(figsize=(8, 6))\n",
    "plt.plot(X, Y, 'bx')\n",
    "plt.plot(X, [func(x) for x in X], 'r')\n",
    "plt.grid()\n",
    "plt.xlabel(\"x\")\n",
    "plt.ylabel(\"y\")\n",
    "\n",
    "plt.legend([\"regressor\", \"original data\"])"
   ]
  },
  {
   "cell_type": "code",
   "execution_count": null,
   "metadata": {},
   "outputs": [],
   "source": []
  }
 ],
 "metadata": {
  "celltoolbar": "Tags",
  "kernelspec": {
   "display_name": "Python 3",
   "language": "python",
   "name": "python3"
  },
  "language_info": {
   "codemirror_mode": {
    "name": "ipython",
    "version": 3
   },
   "file_extension": ".py",
   "mimetype": "text/x-python",
   "name": "python",
   "nbconvert_exporter": "python",
   "pygments_lexer": "ipython3",
   "version": "3.7.5"
  }
 },
 "nbformat": 4,
 "nbformat_minor": 2
}
