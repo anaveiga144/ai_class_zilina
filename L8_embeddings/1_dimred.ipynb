{
 "cells": [
  {
   "cell_type": "markdown",
   "metadata": {
    "colab_type": "text",
    "id": "x4g3wFGqWktH",
    "tags": [
     "en"
    ]
   },
   "source": [
    "**NOTE: This notebook is written for the Google Colab platform. However it can also be run (possibly with minor modifications) as a standard Jupyter notebook.**"
   ]
  },
  {
   "cell_type": "code",
   "execution_count": null,
   "metadata": {
    "colab": {},
    "colab_type": "code",
    "id": "FKGimae0aMhb"
   },
   "outputs": [],
   "source": [
    "#@title -- Import of Necessary Packages -- { display-mode: \"form\" }\n",
    "%tensorflow_version 1.x\n",
    "from tensorflow.keras.datasets import fashion_mnist\n",
    "from matplotlib.offsetbox import OffsetImage, AnnotationBbox\n",
    "from sklearn.decomposition import PCA\n",
    "import matplotlib.pyplot as plt\n",
    "import numpy as np\n",
    "import numbers\n",
    "import umap"
   ]
  },
  {
   "cell_type": "markdown",
   "metadata": {
    "colab_type": "text",
    "id": "CJ4ficzmWktv",
    "tags": [
     "en"
    ]
   },
   "source": [
    "# Dimensionality Reduction\n",
    "\n",
    "The goal of dimensionality reduction methods is to reduce the dimensionality o input data, while preserving as much useful information as possible. Dimensionality reduction can be applied with different purposes, e.g.:\n",
    "* to decrease computational expenses related to processing high-dimensional data;\n",
    "* visualization of high-dimensional data;\n",
    "* ...\n",
    "\n",
    "We will now illustrate how dimensionality reduction can be used for the purpose of data visualization.\n",
    "\n",
    "## Loading the Data\n",
    "\n",
    "In this example, we will be using the [Fashion MNIST](https://www.kaggle.com/zalando-research/fashionmnist) dataset, which contains low-resolution ($28 \\times 28$ pixel) images of different kinds of footwear, clothes, etc.\n",
    "\n",
    "The images are from the following classes:\n",
    "\n",
    "| label id |  label || label id | label |\n",
    "|---|---|---|---|---|\n",
    "| **0**  | T-shirt/top || **5**  | Sandal  |\n",
    "| **1**  | Trouser  || **6**  | Shirt  |\n",
    "| **2**  | Pullover  || **7**  | Sneaker  |\n",
    "| **3**  | Dress  || **8**  | Bag  |\n",
    "| **4**  | Coat  || **9**  | Ankle boot  |\n",
    "\n",
    "It is very easy to load the data in Python, because package ``tensorflow`` includes a built-in function, which does so."
   ]
  },
  {
   "cell_type": "code",
   "execution_count": null,
   "metadata": {
    "colab": {
     "base_uri": "https://localhost:8080/",
     "height": 156
    },
    "colab_type": "code",
    "id": "e6TJuE9yWC4h",
    "outputId": "ca32c17d-48bc-46c2-ab69-f96670d6ac00"
   },
   "outputs": [],
   "source": [
    "(X_train, Y_train), (X_test, Y_test) = fashion_mnist.load_data()"
   ]
  },
  {
   "cell_type": "code",
   "execution_count": null,
   "metadata": {
    "colab": {},
    "colab_type": "code",
    "id": "M0PYDlj2jY2i"
   },
   "outputs": [],
   "source": [
    "class_names = [\"top\", \"trouser\", \"pullover\", \"dress\",\n",
    "               \"coat\", \"sandal\", \"shirt\", \"sneaker\",\n",
    "               \"bag\", \"ankle boot\"]"
   ]
  },
  {
   "cell_type": "markdown",
   "metadata": {
    "colab_type": "text",
    "id": "nRN68VtvWkul",
    "tags": [
     "en"
    ]
   },
   "source": [
    "To get some idea of what our data looks like, we will now display a few randomly selected samples:"
   ]
  },
  {
   "cell_type": "code",
   "execution_count": null,
   "metadata": {
    "colab": {
     "base_uri": "https://localhost:8080/",
     "height": 427
    },
    "colab_type": "code",
    "id": "e4TYSHU0WN_0",
    "outputId": "1e0d24ce-08ac-461f-b392-19884526c17a"
   },
   "outputs": [],
   "source": [
    "fig, axes = plt.subplots(5, 5)\n",
    "fig.set_size_inches([7, 7])\n",
    "\n",
    "for ax_row in axes:\n",
    "    for ax in ax_row:\n",
    "        ind = np.random.randint(0, X_train.shape[0])\n",
    "        ax.imshow(X_train[ind], cmap='Greys')\n",
    "        ax.set_title(class_names[Y_train[ind]])\n",
    "        ax.axis('off')\n",
    "    \n",
    "plt.subplots_adjust(hspace=0.5)"
   ]
  },
  {
   "cell_type": "markdown",
   "metadata": {
    "colab_type": "text",
    "id": "Gm_KpQHvWku9",
    "tags": [
     "en"
    ]
   },
   "source": [
    "## Dimensionality Reduction using PCA and Visualization\n",
    "\n",
    "Given that the images are $28 \\times 28$ pixels, we are dealing with a 784-dimensional space. If we want to visualize its structure, we will need to reduce our data into 2-dimensional space. Naturally, we will loose a lot of information that way, but hopefully we will still be able to learn something about the structure of the space this way.\n",
    "\n",
    "The first method that we are going ot test is called PCA. It is a very fast method, but it can only make use of linear relationships in the data – not of non-linear ones. However, for some datasets this is sufficient."
   ]
  },
  {
   "cell_type": "code",
   "execution_count": null,
   "metadata": {
    "colab": {},
    "colab_type": "code",
    "id": "KTrJbWS8kjRx"
   },
   "outputs": [],
   "source": [
    "pca = PCA()\n",
    "points = pca.fit_transform(X_train.reshape((X_train.shape[0], -1)))"
   ]
  },
  {
   "cell_type": "markdown",
   "metadata": {
    "colab_type": "text",
    "id": "hOyCrwr3WkvT",
    "tags": [
     "en"
    ]
   },
   "source": [
    "We will shuffle the points before we visualize them – the data is sorted by class in the original dataset. If we want to see whether PCA can separate the classes, shuffling the data first is going to be good idea: otherwise a later class could completely cover the points of an earlier class, thereby giving us a false impression of good separation."
   ]
  },
  {
   "cell_type": "code",
   "execution_count": null,
   "metadata": {
    "colab": {},
    "colab_type": "code",
    "id": "8ken-umFpSmU"
   },
   "outputs": [],
   "source": [
    "perm_ind = np.random.permutation(points.shape[0])\n",
    "xx = points[perm_ind]\n",
    "yy = Y_train[perm_ind]"
   ]
  },
  {
   "cell_type": "markdown",
   "metadata": {
    "colab_type": "text",
    "id": "x5L6HqS6Wkvw",
    "tags": [
     "en"
    ]
   },
   "source": [
    "Finally, we only need to visualize all the resulting points and colour them by class. As we can see, the classes do not seem to be clearly separated from each other after doing PCA. Some classes actually appear to be separated (such as bag and trouser), but the figure is rather unreadable as a whole. "
   ]
  },
  {
   "cell_type": "code",
   "execution_count": null,
   "metadata": {
    "colab": {
     "base_uri": "https://localhost:8080/",
     "height": 463
    },
    "colab_type": "code",
    "id": "SdF3dz90kjXy",
    "outputId": "7fc2f93b-cfdd-40b9-ed1a-3eabf1211689"
   },
   "outputs": [],
   "source": [
    "plt.figure(figsize=[10, 7])\n",
    "plt.scatter(xx[:, 0], xx[:, 1], c=yy,\n",
    "            cmap=plt.cm.get_cmap('jet', len(class_names)),\n",
    "            rasterized=True)\n",
    "cbar = plt.colorbar()\n",
    "cbar.set_ticks(range(len(class_names)))\n",
    "cbar.set_ticklabels(class_names)\n",
    "plt.xlabel(\"dim 1\")\n",
    "plt.ylabel(\"dim 2\")"
   ]
  },
  {
   "cell_type": "markdown",
   "metadata": {
    "colab_type": "text",
    "id": "V6MG8_TlWkwR",
    "tags": [
     "en"
    ]
   },
   "source": [
    "The figure would be still less informative if we didn't colour the points by class:"
   ]
  },
  {
   "cell_type": "code",
   "execution_count": null,
   "metadata": {
    "colab": {
     "base_uri": "https://localhost:8080/",
     "height": 459
    },
    "colab_type": "code",
    "id": "3yZIc--fkjVE",
    "outputId": "5d065266-a374-4b8d-850f-a14e818a28de"
   },
   "outputs": [],
   "source": [
    "plt.figure(figsize=[10, 7])\n",
    "plt.scatter(xx[:, 0], xx[:, 1], rasterized=True)\n",
    "plt.xlabel(\"dim 1\")\n",
    "plt.ylabel(\"dim 2\")"
   ]
  },
  {
   "cell_type": "markdown",
   "metadata": {
    "colab_type": "text",
    "id": "oObTSh_sWkw4",
    "tags": [
     "en"
    ]
   },
   "source": [
    "### Note: Rasterizing Parts of the Image\n",
    "\n",
    "Note that we have used parameter ``rasterized=True`` when plotting the points. This parameter indicates that the corresponding part of the image should be rasterized (instead of being kept in vector form). This is very useful when plotting a huge number of points: if we saved all of them in vector format, it would be very expensive to display the image.\n",
    "\n",
    "We could, of course, simply save the entire figure in a raster format (such as jpeg or png) – but that would rasterize all parts of the image, including axes and such. On the whole, it is better to avoid rasterizing everything: especially if the figure is to be published.\n",
    "\n",
    "When part of the figure is too complex to be presented in vector format, rastering it and keeping the rest of the figure in vector format is a good compromise."
   ]
  },
  {
   "cell_type": "markdown",
   "metadata": {
    "colab_type": "text",
    "id": "59n7k1-yWkxC",
    "tags": [
     "en"
    ]
   },
   "source": [
    "## Dimensionality Reduction using UMAP and Visualization\n",
    "\n",
    "Dimensionality reduction using UMAP will be much more time-consuming than it was using PCA. On the other hand, we can expect hte results to be a lot better, because UMAP can take advantage of non-linear as well as linear relationships in the data.\n",
    "\n",
    "To apply UMAP instead of PCA, we literally only need to replace \"PCA\" with \"UMAP\", because both method have the unified interface used in the ``scikit-learn`` package. If we want to get a bit more information about what UMAP is doing, we can add the argument ``verbose=True``."
   ]
  },
  {
   "cell_type": "code",
   "execution_count": null,
   "metadata": {
    "colab": {
     "base_uri": "https://localhost:8080/",
     "height": 1000
    },
    "colab_type": "code",
    "id": "J5BdkFX-kjOW",
    "outputId": "53a0fdbe-1d58-4164-ea11-37a8717c60e6"
   },
   "outputs": [],
   "source": [
    "um = umap.UMAP(verbose=True)\n",
    "points = um.fit_transform(X_train.reshape((X_train.shape[0], -1)))"
   ]
  },
  {
   "cell_type": "code",
   "execution_count": null,
   "metadata": {
    "colab": {},
    "colab_type": "code",
    "id": "RaxP2n4JrgN2"
   },
   "outputs": [],
   "source": [
    "perm_ind = np.random.permutation(points.shape[0])\n",
    "xx = points[perm_ind]\n",
    "yy = Y_train[perm_ind]\n",
    "xt = X_train[perm_ind]"
   ]
  },
  {
   "cell_type": "code",
   "execution_count": null,
   "metadata": {
    "colab": {
     "base_uri": "https://localhost:8080/",
     "height": 463
    },
    "colab_type": "code",
    "id": "YLxu5YV8rWUA",
    "outputId": "27ba412d-e205-4a13-e6b0-2b900d47197b"
   },
   "outputs": [],
   "source": [
    "plt.figure(figsize=[10, 7])\n",
    "cmap = plt.cm.get_cmap('jet', len(class_names))\n",
    "plt.scatter(xx[:, 0], xx[:, 1], c=yy,\n",
    "            cmap=cmap,\n",
    "            rasterized=True)\n",
    "cbar = plt.colorbar()\n",
    "cbar.set_ticks(range(len(class_names)))\n",
    "cbar.set_ticklabels(class_names)\n",
    "plt.xlabel(\"dim 1\")\n",
    "plt.ylabel(\"dim 2\")"
   ]
  },
  {
   "cell_type": "markdown",
   "metadata": {
    "colab_type": "text",
    "id": "Ew_i9XkCWkx6",
    "tags": [
     "en"
    ]
   },
   "source": [
    "From this image, we can already learn a lot more about the structure of the dataset. We can see that the samples are divided into 4 major groups. One of them contains trousers, another one contains handbags, the third one contains a mixture of different kinds of footwear and the last one a mixture of t-shirts, dresses, coats and such.\n",
    "\n",
    "We can also see that while t-shirts and coats are quite intermixes, shoes have rather more structure within their cluster.\n",
    "\n",
    "## More Advanced Visualization\n",
    "\n",
    "Our UMAP-based visualization shows us that, for some reason, there is a contiguous path from the handbag cluster into the t-shirt cluster. It would be interesting to find out what kinds of samples we would find where the two clusters connect. To find out, let's plot a subset of the data, but instead of plotting just the points, let's visualize the actual images at the corresponding positions. That will provide us with a fuller idea of what the structure of the data is in the area of interest.\n",
    "\n",
    "We will first define an auxiliary function, which will behave much like ``scatter``, but which will plot images instead of points."
   ]
  },
  {
   "cell_type": "code",
   "execution_count": null,
   "metadata": {
    "colab": {},
    "colab_type": "code",
    "id": "F9Ussuel1xuF"
   },
   "outputs": [],
   "source": [
    "def imscatter(x, y, images, ax=None, zoom=1,\n",
    "              frame_cmap=None, frame_c=None,\n",
    "              frame_linewidth=1, **kwargs):\n",
    "    if ax is None:\n",
    "        ax = plt.gca()\n",
    "        \n",
    "    if isinstance(frame_cmap, str):\n",
    "        frame_cmap = plt.cm.get_cmap(frame_cmap)\n",
    "    elif frame_cmap is None:\n",
    "        frame_cmap = plt.cm.get_cmap('jet')\n",
    "    \n",
    "    if len(images) == 1:\n",
    "        images = [images[0] for i in range(len(x))]\n",
    "        \n",
    "    if frame_c is None:\n",
    "        frame_c = ['k' for i in range(len(x))]\n",
    "\n",
    "    x, y = np.atleast_1d(x, y)\n",
    "    artists = []\n",
    "    \n",
    "    for i, (x0, y0) in enumerate(zip(x, y)):\n",
    "        fc = frame_c[i]\n",
    "        if isinstance(fc, numbers.Number):\n",
    "            fc = frame_cmap(fc)\n",
    "      \n",
    "        im = OffsetImage(images[i], zoom=zoom, **kwargs)\n",
    "        ab = AnnotationBbox(im, (x0, y0), xycoords='data', frameon=True,\n",
    "                            bboxprops=dict(edgecolor=fc,\n",
    "                                           linewidth=frame_linewidth))\n",
    "        artists.append(ax.add_artist(ab))\n",
    "        \n",
    "    ax.update_datalim(np.column_stack([x, y]))\n",
    "    ax.autoscale()\n",
    "    \n",
    "    return artists"
   ]
  },
  {
   "cell_type": "code",
   "execution_count": null,
   "metadata": {
    "colab": {
     "base_uri": "https://localhost:8080/",
     "height": 623
    },
    "colab_type": "code",
    "id": "i8-vL_Y8riPu",
    "outputId": "1ce1a9d0-a5ed-4bbd-c213-e6940e34e368"
   },
   "outputs": [],
   "source": [
    "num2show = 800\n",
    "\n",
    "plt.figure(figsize=[15, 10])\n",
    "imscatter(xx[:num2show, 0], xx[:num2show, 1],\n",
    "          xt[:num2show], cmap='Greys', zoom=1.2,\n",
    "          frame_c=yy[:num2show], frame_cmap=cmap,\n",
    "          frame_linewidth=2)\n",
    "plt.xlabel(\"dim 1\")\n",
    "plt.ylabel(\"dim 2\")"
   ]
  },
  {
   "cell_type": "markdown",
   "metadata": {
    "colab_type": "text",
    "id": "5Si_itgtWkyW",
    "tags": [
     "en"
    ]
   },
   "source": [
    "The figure should show how the images of handbags gradually change shape so that at the low resolution and grayscale coloring some of them could plausibly be mistaken for t-shirts."
   ]
  }
 ],
 "metadata": {
  "accelerator": "GPU",
  "celltoolbar": "Tags",
  "colab": {
   "collapsed_sections": [],
   "name": "1_dimred.ipynb",
   "provenance": []
  },
  "kernelspec": {
   "display_name": "Python 3",
   "language": "python",
   "name": "python3"
  },
  "language_info": {
   "codemirror_mode": {
    "name": "ipython",
    "version": 3
   },
   "file_extension": ".py",
   "mimetype": "text/x-python",
   "name": "python",
   "nbconvert_exporter": "python",
   "pygments_lexer": "ipython3",
   "version": "3.7.5"
  }
 },
 "nbformat": 4,
 "nbformat_minor": 0
}
